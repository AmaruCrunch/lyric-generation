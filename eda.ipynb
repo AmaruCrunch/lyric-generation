{
 "cells": [
  {
   "cell_type": "markdown",
   "metadata": {},
   "source": [
    "## **Preprocessing**\n",
    "In this notebook we conduct EDA and preprocess the data to prepare it for the training and testing process\n",
    "\n",
    "### **EDA**\n",
    "**Goal**: understand the structure and content of the lyrics and MIDI files.\n",
    "\n",
    "\n",
    "Lyrics:\n",
    "\n",
    "    1. Distribution of song length (number of words per song).\n",
    "    2. Distribution of unique words per song.\n",
    "    3. Total number of words across all songs to understand the dataset's vocabulary size.\n"
   ]
  },
  {
   "cell_type": "code",
   "execution_count": 63,
   "metadata": {},
   "outputs": [],
   "source": [
    "import pandas as pd\n",
    "import numpy as np\n",
    "import matplotlib.pyplot as plt\n",
    "import transformers\n",
    "import seaborn as sns\n",
    "import pretty_midi\n",
    "import csv"
   ]
  },
  {
   "cell_type": "code",
   "execution_count": 64,
   "metadata": {},
   "outputs": [
    {
     "data": {
      "text/html": [
       "<div>\n",
       "<style scoped>\n",
       "    .dataframe tbody tr th:only-of-type {\n",
       "        vertical-align: middle;\n",
       "    }\n",
       "\n",
       "    .dataframe tbody tr th {\n",
       "        vertical-align: top;\n",
       "    }\n",
       "\n",
       "    .dataframe thead th {\n",
       "        text-align: right;\n",
       "    }\n",
       "</style>\n",
       "<table border=\"1\" class=\"dataframe\">\n",
       "  <thead>\n",
       "    <tr style=\"text-align: right;\">\n",
       "      <th></th>\n",
       "      <th>artist</th>\n",
       "      <th>song</th>\n",
       "      <th>lyrics</th>\n",
       "    </tr>\n",
       "  </thead>\n",
       "  <tbody>\n",
       "    <tr>\n",
       "      <th>0</th>\n",
       "      <td>artist</td>\n",
       "      <td>song</td>\n",
       "      <td>lyrics</td>\n",
       "    </tr>\n",
       "    <tr>\n",
       "      <th>1</th>\n",
       "      <td>elton john</td>\n",
       "      <td>candle in the wind</td>\n",
       "      <td>goodbye norma jean &amp; though i never knew you a...</td>\n",
       "    </tr>\n",
       "    <tr>\n",
       "      <th>2</th>\n",
       "      <td>gerry rafferty</td>\n",
       "      <td>baker street</td>\n",
       "      <td>winding your way down on baker street &amp; lite i...</td>\n",
       "    </tr>\n",
       "    <tr>\n",
       "      <th>3</th>\n",
       "      <td>gerry rafferty</td>\n",
       "      <td>right down the line</td>\n",
       "      <td>you know i need your love &amp; you've got that ho...</td>\n",
       "    </tr>\n",
       "    <tr>\n",
       "      <th>4</th>\n",
       "      <td>2 unlimited</td>\n",
       "      <td>tribal dance</td>\n",
       "      <td>come on check it out ya'll &amp; (come on come on!...</td>\n",
       "    </tr>\n",
       "  </tbody>\n",
       "</table>\n",
       "</div>"
      ],
      "text/plain": [
       "           artist                 song  \\\n",
       "0          artist                 song   \n",
       "1      elton john   candle in the wind   \n",
       "2  gerry rafferty         baker street   \n",
       "3  gerry rafferty  right down the line   \n",
       "4     2 unlimited         tribal dance   \n",
       "\n",
       "                                              lyrics  \n",
       "0                                             lyrics  \n",
       "1  goodbye norma jean & though i never knew you a...  \n",
       "2  winding your way down on baker street & lite i...  \n",
       "3  you know i need your love & you've got that ho...  \n",
       "4  come on check it out ya'll & (come on come on!...  "
      ]
     },
     "execution_count": 64,
     "metadata": {},
     "output_type": "execute_result"
    }
   ],
   "source": [
    "# Load the training and test set lyrics\n",
    "lyrics_train_set_path = 'data/lyrics_train_set.csv'\n",
    "lyrics_test_set_path = 'data/lyrics_test_set.csv'\n",
    "\n",
    "lyrics_train_set = pd.read_csv(lyrics_train_set_path, header=None)\n",
    "lyrics_test_set = pd.read_csv(lyrics_test_set_path, header=None)\n",
    "\n",
    "# Combine the train and test set for a comprehensive analysis\n",
    "lyrics_combined = pd.concat([lyrics_train_set, lyrics_test_set])\n",
    "\n",
    "# Add column names\n",
    "lyrics_combined.columns = ['artist', 'song', 'lyrics']\n",
    "lyrics_combined.head()"
   ]
  },
  {
   "cell_type": "code",
   "execution_count": 65,
   "metadata": {},
   "outputs": [],
   "source": [
    "# add column names and save train and test\n",
    "lyrics_train_set.columns = ['artist', 'song', 'lyrics']\n",
    "lyrics_test_set.columns = ['artist', 'song', 'lyrics']\n",
    "\n",
    "lyrics_train_set.to_csv('data/lyrics_train_set.csv', index=False)\n",
    "lyrics_test_set.to_csv('data/lyrics_test_set.csv', index=False)"
   ]
  },
  {
   "cell_type": "code",
   "execution_count": 66,
   "metadata": {},
   "outputs": [
    {
     "data": {
      "text/plain": [
       "<AxesSubplot: >"
      ]
     },
     "execution_count": 66,
     "metadata": {},
     "output_type": "execute_result"
    },
    {
     "data": {
      "image/png": "[encoded data removed]",
      "text/plain": [
       "<Figure size 640x480 with 1 Axes>"
      ]
     },
     "metadata": {},
     "output_type": "display_data"
    }
   ],
   "source": [
    "# plot the distribution of number of words in the lyrics\n",
    "lyrics_train_set['lyrics'].str.split().str.len().hist(bins=100)\n"
   ]
  },
  {
   "cell_type": "code",
   "execution_count": 67,
   "metadata": {},
   "outputs": [
    {
     "data": {
      "text/plain": [
       "<AxesSubplot: >"
      ]
     },
     "execution_count": 67,
     "metadata": {},
     "output_type": "execute_result"
    },
    {
     "data": {
      "image/png": "[encoded data removed]",
      "text/plain": [
       "<Figure size 640x480 with 1 Axes>"
      ]
     },
     "metadata": {},
     "output_type": "display_data"
    }
   ],
   "source": [
    "# plot the unique number of words in the lyrics\n",
    "lyrics_train_set['lyrics'].str.split().apply(set).str.len().hist(bins=100)"
   ]
  },
  {
   "cell_type": "code",
   "execution_count": 68,
   "metadata": {},
   "outputs": [
    {
     "data": {
      "text/plain": [
       "<AxesSubplot: xlabel='word_count', ylabel='unique_word_count'>"
      ]
     },
     "execution_count": 68,
     "metadata": {},
     "output_type": "execute_result"
    },
    {
     "data": {
      "image/png": "[encoded data removed]",
      "text/plain": [
       "<Figure size 640x480 with 1 Axes>"
      ]
     },
     "metadata": {},
     "output_type": "display_data"
    }
   ],
   "source": [
    "# visualize the relationship between the total word count and the unique word count per song, to see if longer songs necessarily use a more diverse vocabulary\n",
    "lyrics_train_set['word_count'] = lyrics_train_set['lyrics'].str.split().str.len()\n",
    "lyrics_train_set['unique_word_count'] = lyrics_train_set['lyrics'].str.split().apply(set).str.len()\n",
    "sns.scatterplot(x='word_count', y='unique_word_count', data=lyrics_train_set)"
   ]
  },
  {
   "cell_type": "code",
   "execution_count": 8,
   "metadata": {},
   "outputs": [
    {
     "name": "stderr",
     "output_type": "stream",
     "text": [
      "[nltk_data] Downloading package stopwords to\n",
      "[nltk_data]     C:\\Users\\Administrator\\AppData\\Roaming\\nltk_data...\n",
      "[nltk_data]   Package stopwords is already up-to-date!\n",
      "[nltk_data] Downloading package words to\n",
      "[nltk_data]     C:\\Users\\Administrator\\AppData\\Roaming\\nltk_data...\n",
      "[nltk_data]   Package words is already up-to-date!\n"
     ]
    },
    {
     "data": {
      "text/plain": [
       "True"
      ]
     },
     "execution_count": 8,
     "metadata": {},
     "output_type": "execute_result"
    }
   ],
   "source": [
    "import nltk\n",
    "\n",
    "nltk.download('stopwords')\n",
    "nltk.download('words')\n"
   ]
  },
  {
   "cell_type": "code",
   "execution_count": 9,
   "metadata": {},
   "outputs": [],
   "source": [
    "from nltk.corpus import stopwords\n",
    "stop_words = set(stopwords.words('english'))\n",
    "\n",
    "# Function to calculate the frequency of stop words in lyrics\n",
    "def stop_words_frequency(text):\n",
    "    text_words = text.split()\n",
    "    stop_words_in_text = [word for word in text_words if word.lower() in stop_words]\n",
    "    return len(stop_words_in_text) / len(text_words) * 100  # Return percentage\n",
    "\n",
    "lyrics_combined['stop_words_percentage'] = lyrics_combined['lyrics'].apply(stop_words_frequency)\n"
   ]
  },
  {
   "cell_type": "code",
   "execution_count": 10,
   "metadata": {},
   "outputs": [],
   "source": [
    "from nltk.corpus import words\n",
    "dictionary_words = set(words.words())\n",
    "\n",
    "def dictionary_words_frequency(text):\n",
    "    text_words = text.split()\n",
    "    dictionary_words_in_text = [word for word in text_words if word.lower() in dictionary_words]\n",
    "    return len(dictionary_words_in_text) / len(text_words) * 100  # Return percentage\n",
    "\n",
    "lyrics_combined['dictionary_words_percentage'] = lyrics_combined['lyrics'].apply(dictionary_words_frequency)\n"
   ]
  },
  {
   "cell_type": "code",
   "execution_count": 11,
   "metadata": {},
   "outputs": [],
   "source": [
    "def type_token_ratio(text):\n",
    "    text_words = text.split()\n",
    "    unique_words = set(text_words)\n",
    "    return len(unique_words) / len(text_words) * 100  # Return percentage\n",
    "\n",
    "lyrics_combined['TTR'] = lyrics_combined['lyrics'].apply(type_token_ratio)\n"
   ]
  },
  {
   "cell_type": "code",
   "execution_count": 12,
   "metadata": {},
   "outputs": [
    {
     "data": {
      "image/png": "[encoded data removed]",
      "text/plain": [
       "<Figure size 1000x600 with 1 Axes>"
      ]
     },
     "metadata": {},
     "output_type": "display_data"
    }
   ],
   "source": [
    "import matplotlib.pyplot as plt\n",
    "import seaborn as sns\n",
    "\n",
    "# Example: Plotting the distribution of stop words percentage\n",
    "plt.figure(figsize=(10, 6))\n",
    "sns.histplot(lyrics_combined['stop_words_percentage'], bins=30, kde=True)\n",
    "plt.title('Distribution of Stop Words Percentage')\n",
    "plt.xlabel('Stop Words Percentage')\n",
    "plt.ylabel('Frequency')\n",
    "plt.show()\n",
    "\n",
    "# Similar plots can be made for dictionary words percentage and TTR\n"
   ]
  },
  {
   "cell_type": "code",
   "execution_count": 13,
   "metadata": {},
   "outputs": [],
   "source": [
    "# get the total number of out of dictionary words in the lyrics\n",
    "def ood_words_count(text):\n",
    "    text_words = text.split()\n",
    "    ood_words = [word for word in text_words if word.lower() not in dictionary_words]\n",
    "    return len(ood_words)\n",
    "\n",
    "lyrics_combined['ood_words_count'] = lyrics_combined['lyrics'].apply(ood_words_count)"
   ]
  },
  {
   "cell_type": "code",
   "execution_count": 14,
   "metadata": {},
   "outputs": [
    {
     "data": {
      "text/html": [
       "<div>\n",
       "<style scoped>\n",
       "    .dataframe tbody tr th:only-of-type {\n",
       "        vertical-align: middle;\n",
       "    }\n",
       "\n",
       "    .dataframe tbody tr th {\n",
       "        vertical-align: top;\n",
       "    }\n",
       "\n",
       "    .dataframe thead th {\n",
       "        text-align: right;\n",
       "    }\n",
       "</style>\n",
       "<table border=\"1\" class=\"dataframe\">\n",
       "  <thead>\n",
       "    <tr style=\"text-align: right;\">\n",
       "      <th></th>\n",
       "      <th>stop_words_percentage</th>\n",
       "      <th>dictionary_words_percentage</th>\n",
       "      <th>TTR</th>\n",
       "      <th>ood_words_count</th>\n",
       "    </tr>\n",
       "  </thead>\n",
       "  <tbody>\n",
       "    <tr>\n",
       "      <th>count</th>\n",
       "      <td>620.000000</td>\n",
       "      <td>620.000000</td>\n",
       "      <td>620.000000</td>\n",
       "      <td>620.000000</td>\n",
       "    </tr>\n",
       "    <tr>\n",
       "      <th>mean</th>\n",
       "      <td>42.196860</td>\n",
       "      <td>73.374723</td>\n",
       "      <td>35.596268</td>\n",
       "      <td>79.595161</td>\n",
       "    </tr>\n",
       "    <tr>\n",
       "      <th>std</th>\n",
       "      <td>7.419227</td>\n",
       "      <td>7.060304</td>\n",
       "      <td>10.568010</td>\n",
       "      <td>49.928275</td>\n",
       "    </tr>\n",
       "    <tr>\n",
       "      <th>min</th>\n",
       "      <td>0.000000</td>\n",
       "      <td>0.000000</td>\n",
       "      <td>1.818182</td>\n",
       "      <td>6.000000</td>\n",
       "    </tr>\n",
       "    <tr>\n",
       "      <th>25%</th>\n",
       "      <td>38.488154</td>\n",
       "      <td>69.783612</td>\n",
       "      <td>28.069561</td>\n",
       "      <td>50.000000</td>\n",
       "    </tr>\n",
       "    <tr>\n",
       "      <th>50%</th>\n",
       "      <td>42.981899</td>\n",
       "      <td>74.168242</td>\n",
       "      <td>33.922988</td>\n",
       "      <td>69.000000</td>\n",
       "    </tr>\n",
       "    <tr>\n",
       "      <th>75%</th>\n",
       "      <td>46.737243</td>\n",
       "      <td>77.821830</td>\n",
       "      <td>42.131759</td>\n",
       "      <td>93.000000</td>\n",
       "    </tr>\n",
       "    <tr>\n",
       "      <th>max</th>\n",
       "      <td>75.882353</td>\n",
       "      <td>92.352941</td>\n",
       "      <td>70.400000</td>\n",
       "      <td>356.000000</td>\n",
       "    </tr>\n",
       "  </tbody>\n",
       "</table>\n",
       "</div>"
      ],
      "text/plain": [
       "       stop_words_percentage  dictionary_words_percentage         TTR  \\\n",
       "count             620.000000                   620.000000  620.000000   \n",
       "mean               42.196860                    73.374723   35.596268   \n",
       "std                 7.419227                     7.060304   10.568010   \n",
       "min                 0.000000                     0.000000    1.818182   \n",
       "25%                38.488154                    69.783612   28.069561   \n",
       "50%                42.981899                    74.168242   33.922988   \n",
       "75%                46.737243                    77.821830   42.131759   \n",
       "max                75.882353                    92.352941   70.400000   \n",
       "\n",
       "       ood_words_count  \n",
       "count       620.000000  \n",
       "mean         79.595161  \n",
       "std          49.928275  \n",
       "min           6.000000  \n",
       "25%          50.000000  \n",
       "50%          69.000000  \n",
       "75%          93.000000  \n",
       "max         356.000000  "
      ]
     },
     "execution_count": 14,
     "metadata": {},
     "output_type": "execute_result"
    }
   ],
   "source": [
    "# describe the dataset\n",
    "lyrics_combined.describe()"
   ]
  },
  {
   "cell_type": "markdown",
   "metadata": {},
   "source": [
    "#### MIDI files"
   ]
  },
  {
   "cell_type": "code",
   "execution_count": 2,
   "metadata": {},
   "outputs": [],
   "source": [
    "import pretty_midi"
   ]
  },
  {
   "cell_type": "code",
   "execution_count": 11,
   "metadata": {},
   "outputs": [
    {
     "name": "stdout",
     "output_type": "stream",
     "text": [
      "1910_Fruitgum_Company_-_Simon_Says.mid\n",
      "2_Unlimited_-_Get_Ready_for_This.mid\n",
      "2_Unlimited_-_Let_the_Beat_Control_Your_Body.mid\n",
      "2_Unlimited_-_Tribal_Dance.mid\n",
      "2_Unlimited_-_Twilight_Zone.mid\n",
      "38_Special_-_Caught_Up_In_You.mid\n",
      "38_Special_-_Fantasy_Girl.mid\n",
      "5ive_-_If_Ya_Gettin_Down.mid\n",
      "5ive_-_Slam_Dunk_Da_Funk.mid\n",
      "5ive_-_Until_The_Time_Is_Through.mid\n",
      "702_-_Where_My_Girls_At.mid\n",
      "911_-_The_Day_We_Find_Love.mid\n",
      "98_Degrees_-_I_Do_Cherish_You.mid\n",
      "98_Degrees_-_The_Hardest_Thing.mid\n",
      "Aaliyah_-_Are_You_That_Somebody.mid\n",
      "Aaliyah_-_Try_Again.mid\n",
      "a_-_a.mid\n",
      "Aaron_Neville_-_Tell_It_Like_It_Is.mid\n",
      "ABBA_-_Dancing_Queen.mid\n",
      "ABBA_-_Fernando.mid\n",
      "ABBA_-_Gimme_Gimme_Gimme.mid\n",
      "ABBA_-_Knowing_Me_Knowing_You.mid\n",
      "ABBA_-_Money_Money_Money.mid\n",
      "ABBA_-_SOS.mid\n",
      "ABBA_-_Super_Trouper.mid\n",
      "ABBA_-_Take_A_Chance_On_Me.mid\n",
      "ABBA_-_Thank_You_for_the_Music.mid\n",
      "ABBA_-_The_Winner_Takes_It_All.mid\n",
      "ABBA_-_Waterloo.mid\n",
      "ABC_-_Poison_Arrow.mid\n",
      "ABC_-_The_Look_of_Love.mid\n",
      "Ace_of_Base_-_All_That_She_Wants.mid\n",
      "Ace_of_Base_-_Always_Have_Always_Will.mid\n",
      "Ace_of_Base_-_Beautiful_Life.mid\n",
      "Ace_of_Base_-_Don't_Turn_Around.mid\n",
      "Ace_of_Base_-_The_Sign.mid\n",
      "adele_-_Hello.mid\n",
      "adele_-_hometown_glory.mid\n",
      "adele_-_someone_like_you.mid\n",
      "Agnes_Obel_-_Familiar.mid\n",
      "aladdin_-_A_whole_new_world.mid\n",
      "Alannah_Myles_-_Black_Velvet.mid\n",
      "Alan_Parsons_-_Ammonia_Avenue.mid\n",
      "Alan_Parsons_-_Damned_if_I_Do.mid\n",
      "Alan_Parsons_-_Eye_in_the_Sky.mid\n",
      "Alan_Parsons_-_Games_People_Play.mid\n",
      "Alan_Parsons_-_Prime_Time.mid\n",
      "Alan_Parsons_-_Time.mid\n",
      "Alice_Deejay_-_Better_Off_Alone.mid\n",
      "All_4_One_-_I_Swear.mid\n",
      "All_Saints_-_Bootie_Call.mid\n",
      "All_Saints_-_Lady_Marmelade.mid\n",
      "All_Saints_-_Never_Ever.mid\n",
      "Allure_-_All_Cried_Out.mid\n",
      "Al_Stewart_-_On_the_Border.mid\n",
      "Al_Stewart_-_Time_Passages.mid\n",
      "Al_Stewart_-_Year_of_the_Cat.mid\n",
      "Al_Wilson_-_Show_and_Tell.mid\n",
      "America_-_Daisy_Jane.mid\n",
      "America_-_I_Need_You.mid\n",
      "America_-_Lonely_People.mid\n",
      "America_-_Sandman.mid\n",
      "America_-_Sister_Golden_Hair.mid\n",
      "America_-_Tin_Man.mid\n",
      "America_-_Ventura_Highway.mid\n",
      "Andrew_Gold_-_Lonely_Boy.mid\n",
      "Andy_Kim_-_Baby_I_Love_You.mid\n",
      "Andy_Kim_-_Rock_Me_Gently.mid\n",
      "Animotion_-_Obsession.mid\n",
      "Anita_Baker_-_Sweet_Love.mid\n",
      "Anita_Ward_-_Ring_My_Bell.mid\n",
      "Anne_Murray_-_Snowbird.mid\n",
      "Anne_Murray_-_You_Needed_Me.mid\n",
      "Another_Level_-_Freak_Me.mid\n",
      "Another_Level_-_I_Want_You_For_Myself.mid\n",
      "Aqua_-_Barbie_Girl.mid\n",
      "Aqua_-_My_Oh_My.mid\n",
      "Aretha_Franklin_-_Respect.mid\n",
      "Aretha_Franklin_-_Think.mid\n",
      "Aretha_Franklin_-_You_Make_Me_Feel_Like_a_Natural_Woman.mid\n",
      "Arlo_Guthrie_-_City_of_New_Orleans.mid\n",
      "Asia_-_Heat_Of_The_Moment.mid\n",
      "Asia_-_Only_Time_Will_Tell.mid\n",
      "Atlanta_Rhythm_Section_-_Imaginary_Lover.mid\n",
      "Atlantic_Starr_-_Always.mid\n",
      "Average_White_Band_-_Cut_the_Cake.mid\n",
      "Average_White_Band_-_Pick_Up_the_Pieces.mid\n",
      "Babyface_-_Change_the_World.mid\n",
      "Babyface_-_When_Can_I_See_You_Again.mid\n",
      "Backstreet_Boys_-_All_I_Have_to_Give.mid\n",
      "Backstreet_Boys_-_As_Long_As_You_Love_Me.mid\n",
      "Backstreet_Boys_-_Back_to_Your_Heart.mid\n",
      "Backstreet_Boys_-_Everybody.mid\n",
      "Backstreet_Boys_-_I'll_Never_Break_Your_Heart.mid\n",
      "Backstreet_Boys_-_I_Need_You_Tonight.mid\n",
      "Backstreet_Boys_-_I_Want_It_That_Way.mid\n",
      "Backstreet_Boys_-_Larger_Than_Life.mid\n",
      "Backstreet_Boys_-_Let_the_Music_Heal_Your_Soul.mid\n",
      "Backstreet_Boys_-_Like_A_Child.mid\n",
      "Backstreet_Boys_-_My_Heart_Stays_With_You.mid\n",
      "Backstreet_Boys_-_No_One_Else_Comes_Close.mid\n",
      "Backstreet_Boys_-_Quit_Playing_Games_With_My_Heart.mid\n",
      "Backstreet_Boys_-_Shape_of_My_Heart.mid\n",
      "Backstreet_Boys_-_Show_Me_the_Meaning.mid\n",
      "Backstreet_Boys_-_The_One.mid\n",
      "Bad_English_-_When_I_See_You_Smile.mid\n",
      "Badfinger_-_Baby_Blue.mid\n",
      "Badfinger_-_Come_And_Get_It.mid\n",
      "Badfinger_-_Day_After_Day.mid\n",
      "Badfinger_-_No_Matter_What.mid\n",
      "Bad_Religion_-_American_Jesus.mid\n",
      "Bad_Religion_-_A_Walk.mid\n",
      "Bananarama_-_Cruel_Summer.mid\n",
      "Bananarama_-_Venus.mid\n",
      "Barbra_Streisand_-_The_Way_We_Were.mid\n",
      "Barbra_Streisand_-_Woman_In_Love.mid\n",
      "Barenaked_Ladies_-_One_Week.mid\n",
      "Barenaked_Ladies_-_Shoe_Box.mid\n",
      "Barenaked_Ladies_-_The_Old_Apartment.mid\n",
      "Barry_Manilow_-_Copacabana.mid\n",
      "Barry_Manilow_-_Even_Now.mid\n",
      "Barry_Manilow_-_Mandy.mid\n",
      "Beastie_Boys_-_Fight_For_Your_Right_to_Party.mid\n",
      "Beastie_Boys_-_Girls.mid\n",
      "Beastie_Boys_-_Intergalactic.mid\n",
      "Beastie_Boys_-_Sabotage.mid\n",
      "Beau_Brummels_-_Laugh_Laugh.mid\n",
      "Bee_Gees_-_How_Can_You_Mend_a_Broken_Heart.mid\n",
      "Bee_Gees_-_How_Deep_Is_Your_Love.mid\n",
      "Bee_Gees_-_I_Just_Want_to_Be_Your_Everything.mid\n",
      "Bee_Gees_-_I_Started_A_Joke.mid\n",
      "Bee_Gees_-_Jive_Talkin'.mid\n",
      "Bee_Gees_-_Love_You_Inside_Out.mid\n",
      "Bee_Gees_-_Massachusetts.mid\n",
      "Bee_Gees_-_More_Than_A_Woman.mid\n",
      "Bee_Gees_-_Night_Fever.mid\n",
      "Bee_Gees_-_Nights_On_Broadway.mid\n",
      "Bee_Gees_-_Stayin_Alive.mid\n",
      "Bee_Gees_-_To_Love_Somebody.mid\n",
      "Bee_Gees_-_Too_Much_Heaven.mid\n",
      "Bee_Gees_-_Tragedy.mid\n",
      "Bee_Gees_-_Words.mid\n",
      "Belinda_Carlisle_-_Heaven_Is_a_Place_on_Earth.mid\n",
      "Belinda_Carlisle_-_Mad_About_You.mid\n",
      "Ben_E_King_-_Stand_By_Me.mid\n",
      "Ben_Folds_Five_-_Brick.mid\n",
      "Berlin_-_Take_My_Breath_Away.mid\n",
      "Berlin_-_The_Metro.mid\n",
      "Bertie_Higgins_-_Key_Largo.mid\n",
      "Bette_Midler_-_From_A_Distance.mid\n",
      "Bette_Midler_-_The_Rose.mid\n",
      "Billie_Myers_-_Kiss_The_Rain.mid\n",
      "Bill_Withers_-_Just_the_two_of_us.mid\n",
      "Bill_Withers_-_Lean_on_Me.mid\n",
      "Billy_Idol_-_Catch_my_Fall.mid\n",
      "Billy_Idol_-_Dancing_With_Myself.mid\n",
      "Billy_Idol_-_Eyes_Without_A_Face.mid\n",
      "Billy_Idol_-_Flesh_for_Fantasy.mid\n",
      "Billy_Idol_-_Hot_in_the_City.mid\n",
      "Billy_Idol_-_Mony_Mony.mid\n",
      "Billy_Idol_-_Rebel_Yell.mid\n",
      "Billy_Idol_-_White_Wedding.mid\n",
      "Billy_Joel_-_Allentown.mid\n",
      "Billy_Joel_-_Big_Shot.mid\n",
      "Billy_Joel_-_Goodnight_Saigon.mid\n",
      "Billy_Joel_-_Honesty.mid\n",
      "Billy_Joel_-_It's_Still_Rock_and_Roll_to_Me.mid\n",
      "Billy_Joel_-_Just_the_Way_You_Are.mid\n",
      "Billy_Joel_-_Movin'_Out.mid\n",
      "Billy_Joel_-_My_Life.mid\n",
      "Billy_Joel_-_New_York_State_of_Mind.mid\n",
      "Billy_Joel_-_Only_the_Good_Die_Young.mid\n",
      "Billy_Joel_-_Piano_Man.mid\n",
      "Billy_Joel_-_Pressure.mid\n",
      "Billy_Joel_-_River_of_Dreams.mid\n",
      "Billy_Joel_-_Scenes_from_an_Italian_Restaurant.mid\n",
      "Billy_Joel_-_She's_Got_a_Way.mid\n",
      "Billy_Joel_-_Tell_Her_About_It.mid\n",
      "Billy_Joel_-_The_Longest_Time.mid\n",
      "Billy_Joel_-_The_Stranger.mid\n",
      "Billy_Joel_-_Uptown_Girl.mid\n",
      "Billy_Joel_-_You_May_Be_Right.mid\n",
      "Billy_Ocean_-_Loverboy.mid\n",
      "Billy_Ocean_-_Suddenly.mid\n",
      "Billy_Preston_-_Will_it_Go_Round_in_Circles.mid\n",
      "Billy_Ray_Cyrus_-_Achy_Breaky_Heart.mid\n",
      "Billy_Swan_-_I_Can_Help.mid\n",
      "BJ_Thomas_-_Hooked_on_a_Feeling.mid\n",
      "Black_Rob_-_Whoa.mid\n",
      "Blackstreet_-_No_Diggity.mid\n",
      "Blackstreet_-_Take_Me_There.mid\n",
      "Blaque_-_Bring_It_All_To_Me.mid\n",
      "Blink_182_-_All_the_Small_Things.mid\n",
      "Blink_182_-_Dammit.mid\n",
      "Blink_182_-_Dumpweed.mid\n",
      "Blink_182_-_Josie.mid\n",
      "Bloodhound_Gang_-_Fire_Water_Burn.mid\n",
      "Bloodhound_Gang_-_The_Bad_Touch.mid\n",
      "Blur_-_Charmless_Man.mid\n",
      "Blur_-_Country_House.mid\n",
      "Blur_-_Song_2.mid\n",
      "Blur_-_Tender.mid\n",
      "Bobby_Brown_-_My_Perogative.mid\n",
      "Bobby_Darin_-_Dream_Lover.mid\n",
      "Bobby_Darin_-_Mack_the_Knife.mid\n",
      "Bobby_Fuller_Four_-_I_Fought_The_Law.mid\n",
      "Bobby_Vinton_-_Blue_Velvet.mid\n",
      "Bobby_Vinton_-_Sealed_With_a_Kiss.mid\n",
      "Bob_Dylan_-_Subterranean_Homesick_Blues.mid\n",
      "Bob_Marley_-_Could_You_Be_Loved.mid\n",
      "Bob_Welch_-_Precious_Love.mid\n",
      "Bob_Welch_-_Sentimental_Lady.mid\n",
      "Bob_Wills_-_Faded_Love.mid\n",
      "Bob_Wills_-_San_Antonio_Rose.mid\n",
      "Bo_Diddley_-_Bo_Diddley.mid\n",
      "Bone_Thugs_N_Harmony_-_Days_of_Our_Livez.mid\n",
      "Bone_Thugs_N_Harmony_-_Look_Into_My_Eyes.mid\n",
      "Bonnie_Tyler_-_Holding_Out_for_a_Hero.mid\n",
      "Bonnie_Tyler_-_Total_Eclipse_of_the_Heart.mid\n",
      "Boyzone_-_A_Different_Beat.mid\n",
      "Boyzone_-_All_That_I_Need.mid\n",
      "Boyzone_-_Baby_Can_I_Hold_You_Tonight.mid\n",
      "Boyzone_-_I_Love_The_Way_You_Love_Me.mid\n",
      "Boyzone_-_Love_Me_For_A_Reason.mid\n",
      "Boyzone_-_No_Matter_What.mid\n",
      "Boyzone_-_Picture_Of_You.mid\n",
      "Boyzone_-_Words.mid\n",
      "Boyzone_-_You_Needed_Me.mid\n",
      "Boz_Scaggs_-_Lido_Shuffle.mid\n",
      "Boz_Scaggs_-_What_Can_I_Say.mid\n",
      "Brandy_-_Best_Friend.mid\n",
      "Brandy_-_I_Wanna_Be_Down.mid\n",
      "Brandy_-_The_Boy_Is_Mine.mid\n",
      "Bread_-_Aubrey.mid\n",
      "Bread_-_Diary.mid\n",
      "Bread_-_Everything_I_Own.mid\n",
      "Bread_-_Goodbye_Girl.mid\n",
      "Bread_-_Guitar_Man.mid\n",
      "Bread_-_If.mid\n",
      "Bread_-_Make_It_With_You.mid\n",
      "Bread_-_Sweet_Surrender.mid\n",
      "Brian_McKnight_-_Anytime.mid\n",
      "Brian_McKnight_-_Back_At_One.mid\n",
      "Brian_McKnight_-_On_The_Down_Low.mid\n",
      "Britney_Spears_-_Baby_One_More_Time.mid\n",
      "Britney_Spears_-_Born_to_Make_You_Happy.mid\n",
      "Britney_Spears_-_Don't_Let_Me_Be_the_Last_to_Know.mid\n",
      "Britney_Spears_-_From_the_Bottom_of_My_Broken_Heart.mid\n",
      "Britney_Spears_-_Lucky.mid\n",
      "Britney_Spears_-_Soda_Pop.mid\n",
      "Britney_Spears_-_Sometimes.mid\n",
      "Britney_Spears_-_Stronger.mid\n",
      "Britney_Spears_-_You_Drive_Me_Crazy.mid\n",
      "Brownsville_Station_-_Smokin_In_The_Boys_Room.mid\n",
      "Bruce_Hornsby_-_The_Way_It_Is.mid\n",
      "Buck_Owens_-_Act_Naturally.mid\n",
      "Buck_Owens_-_Together_Again.mid\n",
      "Buddy_Guy_-_Midnight_Train.mid\n",
      "Busta_Rhymes_-_Put_Your_Hands_Where_My_Eyes_Could_See.mid\n",
      "Cake_-_Frank_Sinatra.mid\n",
      "Cake_-_Never_There.mid\n",
      "Cake_-_The_Distance.mid\n",
      "Canned_Heat_-_Going_Up_The_Country.mid\n",
      "Cardigans_-_Erase_And_Rewind.mid\n",
      "Cardigans_-_Lovefool.mid\n",
      "Cardigans_-_My_Favourite_Game.mid\n",
      "Carl_Douglas_-_Kung_Fu_Fighting.mid\n",
      "Carly_Simon_-_Attitude_Dancing.mid\n",
      "Carly_Simon_-_Half_a_Chance.mid\n",
      "Carly_Simon_-_Mockingbird.mid\n",
      "Carly_Simon_-_Nobody_Does_it_Better.mid\n",
      "Carly_Simon_-_No_Secrets.mid\n",
      "Carole_King_-_I_Feel_the_Earth_Move.mid\n",
      "Carole_King_-_So_Far_Away.mid\n",
      "Carole_King_-_Will_You_Still_Love_Me_Tomorrow.mid\n",
      "Cat_Stevens_-_Another_Saturday_Night.mid\n",
      "Cat_Stevens_-_Father_and_Son.mid\n",
      "Cat_Stevens_-_Moonshadow.mid\n",
      "Cat_Stevens_-_Morning_Has_Broken.mid\n",
      "Cat_Stevens_-_Oh_Very_Young.mid\n",
      "Cat_Stevens_-_Peace_Train.mid\n",
      "Cat_Stevens_-_Wild_World.mid\n",
      "Celine_Dion_-_All_By_Myself.mid\n",
      "Celine_Dion_-_Because_You_Loved_Me.mid\n",
      "Celine_Dion_-_Falling_Into_You.mid\n",
      "Celine_Dion_-_Immortality.mid\n",
      "Celine_Dion_-_Tell_Him.mid\n",
      "Celine_Dion_-_The_Colour_of_My_Love.mid\n",
      "Celine_Dion_-_To_Love_You_More.mid\n",
      "Chaka_Khan_-_Ain't_Nobody.mid\n",
      "Chaka_Khan_-_I_Feel_for_You.mid\n",
      "Chaka_Khan_-_Tell_Me_Something_Good.mid\n",
      "Cher_-_Believe.mid\n",
      "Cherry_Poppin_Daddies_-_Zoot_Suit_Riot.mid\n",
      "Cher_-_Shoop_Shoop_Song.mid\n",
      "Chet_Atkins_-_Wheels.mid\n",
      "Chicago_-_25_or_6_to_4.mid\n",
      "Chicago_-_Beginnings.mid\n",
      "Chicago_-_Color_My_World.mid\n",
      "Chicago_-_Does_Anybody_Really_Know.mid\n",
      "Chicago_-_Saturday_in_the_Park.mid\n",
      "Chicago_-_Wishing_You_Were_Here.mid\n",
      "Chic_-_Good_Times.mid\n",
      "Chic_-_Le_Freak.mid\n",
      "Chris_Isaak_-_Wicked_Game.mid\n",
      "Christina_Aguilera_-_Come_On_Over.mid\n",
      "Christina_Aguilera_-_Genie_In_A_Bottle.mid\n",
      "Christina_Aguilera_-_I_Turn_To_You.mid\n",
      "Christina_Aguilera_-_Reflection.mid\n",
      "Christmas_Carols_-_Angels_We_Have_Heard_On_High.mid\n",
      "Christmas_Carols_-_Deck_The_Halls.mid\n",
      "Christmas_Carols_-_Do_You_Hear_What_I_Hear.mid\n",
      "Christmas_Carols_-_Frosty_The_Snowman.mid\n",
      "Christmas_Carols_-_Have_Yourself_A_Merry_Little_Christmas.mid\n",
      "Christmas_Carols_-_Holly_Jolly_Christmas.mid\n",
      "Christmas_Carols_-_I_Saw_Mommy_Kissing_Santa_Claus.mid\n",
      "Christmas_Carols_-_Jingle_Bells.mid\n",
      "Christmas_Carols_-_Joy_To_The_World.mid\n",
      "Christmas_Carols_-_Let_It_Snow.mid\n",
      "Christmas_Carols_-_Little_Drummer_Boy.mid\n",
      "Christmas_Carols_-_O_Come_All_Ye_Faithful.mid\n",
      "Christmas_Carols_-_O_Holy_Night.mid\n",
      "Christmas_Carols_-_Rockin_Around_The_Christmas_Tree.mid\n",
      "Christmas_Carols_-_Rudolph_The_Red_Nosed_Reindeer.mid\n",
      "Christmas_Carols_-_Santa_Claus_Is_Coming_To_Town.mid\n",
      "Christmas_Carols_-_Silver_Bells.mid\n",
      "Christmas_Carols_-_Sleigh_Ride.mid\n",
      "Christmas_Carols_-_The_First_Noel.mid\n",
      "Christmas_Carols_-_We_Three_Kings.mid\n",
      "Christmas_Carols_-_What_Child_Is_This.mid\n",
      "Christmas_Carols_-_White_Christmas.mid\n",
      "Christmas_Carols_-_Winter_Wonderland.mid\n",
      "Christopher_Cross_-_Ride_Like_the_Wind.mid\n",
      "Christopher_Cross_-_Sailing.mid\n",
      "Chubby_Checker_-_The_Twist.mid\n",
      "Chuck_Mangione_-_Feels_So_Good.mid\n",
      "Classics_IV_-_Stormy.mid\n",
      "Cliff_Richard_-_Devil_Woman.mid\n",
      "Connie_Francis_-_Stupid_Cupid.mid\n",
      "Connie_Francis_-_Where_the_Boys_Are.mid\n",
      "Coolio_-_C_U_When_U_Get_There.mid\n",
      "Coolio_-_Fantastic_Voyage.mid\n",
      "Coolio_-_Too_Hot.mid\n",
      "Corey_Hart_-_Sunglasses_at_Night.mid\n",
      "Counting_Crows_-_Mr_Jones.mid\n",
      "Counting_Crows_-_Round_Here.mid\n",
      "Cranberries_-_Cordell.mid\n",
      "Cranberries_-_Linger.mid\n",
      "Cranberries_-_Zombie.mid\n",
      "Culture_Club_-_Church_of_the_Poison_Mind.mid\n",
      "Culture_Club_-_Do_You_Really_Want_to_Hurt_Me.mid\n",
      "Culture_Club_-_Karma_Chameleon.mid\n",
      "Curtis_Mayfield_-_Move_On_Up.mid\n",
      "Cyndi_Lauper_-_All_Through_the_Night.mid\n",
      "Cyndi_Lauper_-_Girls_Just_Want_to_Have_Fun.mid\n",
      "Cyndi_Lauper_-_Goonies_R_Good_Enough.mid\n",
      "Cyndi_Lauper_-_I_Drove_All_Night.mid\n",
      "Cyndi_Lauper_-_She_Bop.mid\n",
      "Cyndi_Lauper_-_Time_After_Time.mid\n",
      "Cyndi_Lauper_-_True_Colors.mid\n",
      "Cypress_Hill_-_Rock_Superstar.mid\n",
      "Dan_Fogelberg_-_Leader_of_the_Band.mid\n",
      "Dan_Fogelberg_-_Same_Old_Lang_Syne.mid\n",
      "Dan_Hill_-_Sometimes_When_We_Touch.mid\n",
      "Darude_-_Sandstorm.mid\n",
      "Dave_Dudley_-_Six_Days_on_the_Road.mid\n",
      "Dave_Mason_-_We_Just_Disagree.mid\n",
      "David_Bowie_-_Lazarus.mid\n",
      "David_Bowie_-_Let's_Dance.mid\n",
      "David_Gates_-_Goodbye_Girl.mid\n",
      "David_Seville_-_Witch_Doctor.mid\n",
      "Debbie_Gibson_-_Foolish_Beat.mid\n",
      "Debbie_Gibson_-_Lost_in_your_Eyes.mid\n",
      "Debby_Boone_-_You_Light_Up_My_Life.mid\n",
      "Def_Leppard_-_Photograph.mid\n",
      "Depeche_Mode_-_Enjoy_the_Silence-2.mid\n",
      "Depeche_Mode_-_Everything_Counts.mid\n",
      "Depeche_Mode_-_Master_and_Servant.mid\n",
      "Depeche_Mode_-_People_Are_People.mid\n",
      "Diana_Ross_-_Theme_from_Mahogany.mid\n",
      "Diana_Ross_-_Touch_Me_in_the_Morning.mid\n",
      "Diana_Ross_-_Upside_Down.mid\n",
      "Dionne_Warwick_-_Do_You_Know_the_Way_to_San_Jose.mid\n",
      "Dionne_Warwick_-_Heartbreaker.mid\n",
      "Dionne_Warwick_-_I_Say_A_Little_Prayer.mid\n",
      "Dionne_Warwick_-_Walk_On_By.mid\n",
      "Dixie_Chicks_-_Goodbye_Earl.mid\n",
      "Dixie_Chicks_-_I_Can_Love_You_Better.mid\n",
      "DMX_-_Party_Up.mid\n",
      "Dobie_Gray_-_Drift_Away.mid\n",
      "Don_Henley_-_Dirty_Laundry.mid\n",
      "Don_Henley_-_End_of_the_Innocence.mid\n",
      "Don_Henley_-_New_York_Minute.mid\n",
      "Don_McLean_-_American_Pie.mid\n",
      "Don_McLean_-_Vincent.mid\n",
      "Donna_Summer_-_Bad_Girls.mid\n",
      "Donna_Summer_-_Hot_Stuff.mid\n",
      "Donna_Summer_-_I_Feel_Love.mid\n",
      "Donna_Summer_-_Last_Dance.mid\n",
      "Donna_Summer_-_On_the_Radio.mid\n",
      "Donny_Osmond_-_Puppy_Love.mid\n",
      "Donovan_-_Mellow_Yellow.mid\n",
      "Donovan_-_Sunshine_Superman.mid\n",
      "Dr_Dre_-_Forgot_About_Dre.mid\n",
      "Dusty_Springfield_-_I_Only_Want_To_Be_With_You.mid\n",
      "Dusty_Springfield_-_Son_of_a_Preacher_Man.mid\n",
      "Eagle_Eye_Cherry_-_Save_Tonight.mid\n",
      "Eddie_Kendricks_-_Boogie_Down.mid\n",
      "Eddy_Arnold_-_Welcome_To_My_World.mid\n",
      "Edgar_Winter_-_Frankenstein.mid\n",
      "Ed_Sheeran_-_Thinking_Out_Loud_-_Violin.mid\n",
      "Edwin_Starr_-_War.mid\n",
      "Eels_-_Last_Stop_This_Town.mid\n",
      "Eels_-_Your_Lucky_Day_In_Hell.mid\n",
      "Eiffel_65_-_Another_Race.mid\n",
      "Eiffel_65_-_Blue_Da_Ba_Dee.mid\n",
      "Eiffel_65_-_Dub_in_Life.mid\n",
      "Eiffel_65_-_Too_Much_of_Heaven.mid\n",
      "Eiffel_65_-_Your_Clown.mid\n",
      "Elmore_James_-_Dust_My_Broom.mid\n",
      "Elton_John_-_Candle_in_the_Wind.mid\n",
      "Eminem_-_Bad_Meets_Evil.mid\n",
      "Eminem_-_Guilty_Conscience.mid\n",
      "Eminem_-_Kim.mid\n",
      "Eminem_-_My_Name_Is.mid\n",
      "Eminem_-_Role_Model.mid\n",
      "Eminem_-_Stan.mid\n",
      "Eminem_-_Superman.mid\n",
      "Eminem_-_The_Real_Slim_Shady.mid\n",
      "Eminem_-_The_Way_I_Am.mid\n",
      "Eminem_-_Under_The_Influence.mid\n",
      "Enrique_Iglesias_-_Bailamos.mid\n",
      "Enrique_Iglesias_-_Be_With_You.mid\n",
      "Enrique_Iglesias_-_Experiencia_Religiosa.mid\n",
      "En_Vogue_-_Free_Your_Mind.mid\n",
      "En_Vogue_-_My_Lovin.mid\n",
      "Enya_-_Lothlorien.mid\n",
      "Enya_-_Orinoco_Flow.mid\n",
      "Eric_Carmen_-_All_By_Myself.mid\n",
      "Eric_Carmen_-_Hungry_Eyes.mid\n",
      "Eric_Clapton_-_Bell_Bottom_Blues.mid\n",
      "Eric_Clapton_-_wonderful_tonight_-_live_extnd_version_@jiji@.mid\n",
      "Etta_James_-_At_Last.mid\n",
      "Eve_6_-_Inside_Out.mid\n",
      "Everclear_-_Everything_To_Everyone.mid\n",
      "Everclear_-_Father_Of_Mine.mid\n",
      "Everclear_-_I_Will_Buy_You_A_New_Life.mid\n",
      "Everclear_-_Santa_Monica.mid\n",
      "Everlast_-_What_Its_Like.mid\n",
      "Exile_-_Kiss_you_all_over.mid\n",
      "Extreme_-_More_Than_Words.mid\n",
      "Fabulous_Thunderbirds_-_Wrap_It_Up.mid\n",
      "Faith_Evans_-_Love_Like_This.mid\n",
      "Faith_Hill_-_Breathe.mid\n",
      "Faithless_-_God_Is_A_DJ.mid\n",
      "Faith_No_More_-_Epic.mid\n",
      "Falco_-_Der_Kommissar.mid\n",
      "Falco_-_Rock_Me_Amadeus.mid\n",
      "Fastball_-_Out_Of_My_Head.mid\n",
      "Fastball_-_The_Way.mid\n",
      "Fatboy_Slim_-_Going_Out_of_My_Head.mid\n",
      "Fatboy_Slim_-_Praise_You.mid\n",
      "Fatboy_Slim_-_Right_Here_Right_Now.mid\n",
      "Fatboy_Slim_-_Rockafella_Skank.mid\n",
      "Fats_Domino_-_Blueberry_Hill.mid\n",
      "Fine_Young_Cannibals_-_She_Drives_Me_Crazy.mid\n",
      "Fiona_Apple_-_Criminal.mid\n",
      "Firefall_-_Just_Remember_I_Love_you.mid\n",
      "Firefall_-_You_are_the_Woman.mid\n",
      "Five_Man_Electrical_Band_-_Signs.mid\n",
      "Frankie_Avalon_-_Venus.mid\n",
      "Frankie_Goes_to_Hollywood_-_Relax.mid\n",
      "Frankie_Valli_-_Grease.mid\n",
      "Freda_Payne_-_Band_of_Gold.mid\n",
      "Freddie_King_-_Hideaway.mid\n",
      "Freddie_Mercury_-_Living_on_my_Own.mid\n",
      "Fugazi_-_Waiting_Room.mid\n",
      "Garth_Brooks_-_Friends_In_Low_Places.mid\n",
      "Garth_Brooks_-_Two_Pina_Coladas.mid\n",
      "Gary_Lewis_and_the_Playboys_-_Everybody_Loves_a_Clown.mid\n",
      "Gary_Wright_-_Dream_Weaver.mid\n",
      "Gary_Wright_-_Love_is_Alive.mid\n",
      "Gene_Autry_-_Back_in_the_Saddle_Again.mid\n",
      "Gene_Chandler_-_Duke_Of_Earl.mid\n",
      "Genesis_-_Abacab.mid\n",
      "Genesis_-_Afterglow.mid\n",
      "Genesis_-_A_Trick_of_the_Tail.mid\n",
      "Genesis_-_Calling_all_Stations.mid\n",
      "Genesis_-_Dance_on_a_Volcano.mid\n",
      "Genesis_-_Entangled.mid\n",
      "Genesis_-_Fifth_of_Fifth.mid\n",
      "Genesis_-_Home_by_the_Sea.mid\n",
      "Genesis_-_Illegal_Alien.mid\n",
      "Genesis_-_In_Too_Deep.mid\n",
      "Genesis_-_Invisible_Touch.mid\n",
      "Genesis_-_Jesus_He_Knows_Me.mid\n",
      "Genesis_-_Land_of_Confusion.mid\n",
      "Genesis_-_Misunderstanding.mid\n",
      "Genesis_-_No_Son_of_Mine.mid\n",
      "Genesis_-_Paperlate.mid\n",
      "Genesis_-_Tonight_Tonight_Tonight.mid\n",
      "Genesis_-_Turn_it_on_Again.mid\n",
      "Gene_Vincent_-_Be_Bop_a_Lula.mid\n",
      "George_Benson_-_Give_Me_the_Night.mid\n",
      "George_Benson_-_On_Broadway.mid\n",
      "George_Benson_-_This_Masquerade.mid\n",
      "George_Benson_-_Turn_Your_Love_Around.mid\n",
      "George_McCrae_-_Rock_Your_Baby.mid\n",
      "George_Michael_-_Faith.mid\n",
      "George_Michael_-_Father_Figure.mid\n",
      "George_Michael_-_Freedom.mid\n",
      "George_Michael_-_One_More_Try.mid\n",
      "George_Strait_-_All_My_Ex's_Live_in_Texas.mid\n",
      "George_Strait_-_Amarillo_by_Morning.mid\n",
      "George_Strait_-_I_Cross_My_Heart.mid\n",
      "George_Strait_-_I_Just_Want_To_Dance_With_You.mid\n",
      "Geri_Halliwell_-_Look_At_Me.mid\n",
      "Geri_Halliwell_-_Mi_Chico_Latino.mid\n",
      "Gerry_and_the_Pacemakers_-_How_Do_You_Do_It.mid\n",
      "Gerry_Rafferty_-_Baker_Street.mid\n",
      "Gerry_Rafferty_-_Right_Down_the_Line.mid\n",
      "Gino_Vannelli_-_I_Just_Wanna_Stop.mid\n",
      "Gladys_Knight_-_Midnight_Train_to_Georgia.mid\n",
      "Glen_Campbell_-_By_the_Time_I_Get_to_Phoenix.mid\n",
      "Glen_Campbell_-_Wichita_Lineman.mid\n",
      "Glenn_Frey_-_The_Heat_Is_On.mid\n",
      "Glenn_Frey_-_The_One_You_Love.mid\n",
      "Glenn_Frey_-_You_Belong_to_the_City.mid\n",
      "Gloria_Gaynor_-_I_Will_Survive.mid\n",
      "Gloria_Gaynor_-_Never_Can_Say_Goodbye.mid\n",
      "Goldfinger_-_Mable.mid\n",
      "The_Babys_-_Midnight_Rendezvous.mid\n",
      "The_Bangles_-_Eternal_Flame.mid\n",
      "The_Bangles_-_Hazy_Shade_of_Winter.mid\n",
      "The_Bangles_-_Manic_Monday.mid\n",
      "The_Bangles_-_Walk_Like_An_Egyptian.mid\n",
      "The_Buckinghams_-_Kind_Of_A_Drag.mid\n",
      "The_Buckinghams_-_Mercy_Mercy_Mercy.mid\n",
      "The_Byrds_-_Turn_Turn_Turn.mid\n",
      "The_Carpenters_-_A_Song_For_You.mid\n",
      "The_Carpenters_-_Close_to_You.mid\n",
      "The_Carpenters_-_For_All_We_Know.mid\n",
      "The_Carpenters_-_Goodbye_to_Love.mid\n",
      "The_Carpenters_-_Hurting_Each_Other.mid\n",
      "The_Carpenters_-_Merry_Christmas_Darling.mid\n",
      "The_Carpenters_-_Only_Yesterday.mid\n",
      "The_Carpenters_-_Rainy_Days_and_Mondays.mid\n",
      "The_Carpenters_-_Sing.mid\n",
      "The_Carpenters_-_Superstar.mid\n",
      "The_Carpenters_-_Sweet_Sweet_Smile.mid\n",
      "The_Carpenters_-_Top_of_the_World.mid\n",
      "The_Carpenters_-_Yesterday_Once_More.mid\n",
      "The_Clash_-_Rock_the_Casbah.mid\n",
      "The_Clash_-_Should_I_Stay_or_Should_I_Go.mid\n",
      "The_Coasters_-_Charlie_Brown.mid\n",
      "The_Coasters_-_Yakety_Yak.mid\n",
      "The_Corrs_-_At_Your_Side.mid\n",
      "The_Corrs_-_Carraroe_Jig.mid\n",
      "The_Corrs_-_Closer.mid\n",
      "The_Corrs_-_Dreams.mid\n",
      "The_Corrs_-_Forgiven_Not_Forgotten.mid\n",
      "The_Corrs_-_Haste_to_the_Wedding.mid\n",
      "The_Corrs_-_Heaven_Knows.mid\n",
      "The_Corrs_-_I_Know_My_Love.mid\n",
      "The_Corrs_-_I_Never_Loved_You_Anyway.mid\n",
      "The_Corrs_-_Intimacy.mid\n",
      "The_Corrs_-_Leave_Me_Alone.mid\n",
      "The_Corrs_-_Love_Gives_Love_Takes.mid\n",
      "The_Corrs_-_Love_to_Love_You.mid\n",
      "The_Corrs_-_No_Frontiers.mid\n",
      "The_Corrs_-_No_Good_For_Me.mid\n",
      "The_Corrs_-_Only_When_I_Sleep.mid\n",
      "The_Corrs_-_Queen_of_Hollywood.mid\n",
      "The_Corrs_-_Radio.mid\n",
      "The_Corrs_-_Rainy_Day.mid\n",
      "The_Corrs_-_Remember.mid\n",
      "The_Corrs_-_Runaway.mid\n",
      "The_Corrs_-_Secret_Life.mid\n",
      "The_Corrs_-_Someday.mid\n",
      "The_Corrs_-_So_Young.mid\n",
      "The_Corrs_-_The_Right_Time.mid\n",
      "The_Corrs_-_What_Can_I_Do.mid\n",
      "The_Crystals_-_Da_Doo_Ron_Ron.mid\n",
      "The_Cure_-_Close_to_Me.mid\n",
      "The_Doors_-_Roadhouse_Blues.mid\n",
      "The_Drifters_-_On_Broadway.mid\n",
      "The_Drifters_-_Save_the_Last_Dance_for_Me.mid\n",
      "The_Drifters_-_This_Magic_Moment.mid\n",
      "The_Drifters_-_Under_the_Boardwalk.mid\n",
      "The_Drifters_-_Up_on_the_Roof.mid\n",
      "The_Eagles_-_Already_Gone.mid\n",
      "The_Eagles_-_Best_of_My_Love.mid\n",
      "The_Eagles_-_Desperado.mid\n",
      "The_Eagles_-_Heartache_Tonight.mid\n",
      "The_Eagles_-_Hotel_California.mid\n",
      "The_Eagles_-_Life_In_The_Fast_Lane.mid\n",
      "The_Eagles_-_Love_Will_Keep_Us_Alive.mid\n",
      "The_Eagles_-_Lyin_Eyes.mid\n",
      "The_Eagles_-_New_Kid_In_Town.mid\n",
      "The_Eagles_-_One_of_These_Nights.mid\n",
      "The_Eagles_-_Peaceful_Easy_Feeling.mid\n",
      "The_Eagles_-_Please_Come_Home_For_Christmas.mid\n",
      "The_Eagles_-_Pretty_Maids_All_In_A_Row.mid\n",
      "The_Eagles_-_Seven_Bridges_Road.mid\n",
      "The_Eagles_-_Take_It_Easy.mid\n",
      "The_Eagles_-_Take_It_To_The_Limit.mid\n",
      "The_Eagles_-_Tequila_Sunrise.mid\n",
      "The_Eagles_-_The_Last_Resort.mid\n",
      "The_Eagles_-_The_Long_Run.mid\n",
      "The_Eagles_-_The_Sad_Cafe.mid\n",
      "The_Eagles_-_Try_And_Love_Again.mid\n",
      "The_Eagles_-_Victim_of_Love.mid\n",
      "The_Eagles_-_Wasted_Time.mid\n",
      "The_Eagles_-_Witchy_Woman.mid\n",
      "The_Fifth_Dimension_-_Up_Up_and_Away.mid\n",
      "The_Fixx_-_One_Thing_Leads_to_Another.mid\n",
      "The_Flamingos_-_I_Only_Have_Eyes_For_You.mid\n",
      "The_Four_Seasons_-_Dawn_Go_Away.mid\n",
      "The_Four_Seasons_-_Rag_Doll.mid\n",
      "The_Four_Seasons_-_Ronnie.mid\n",
      "The_Four_Seasons_-_Sherry.mid\n",
      "The_Four_Seasons_-_Walk_Like_a_Man.mid\n",
      "The_Fugees_-_Killing_Me_Softly.mid\n",
      "The_Fugees_-_No_Woman_No_Cry.mid\n",
      "The_Fugees_-_Ready_or_Not.mid\n"
     ]
    }
   ],
   "source": [
    "!ls data/midi_files"
   ]
  },
  {
   "cell_type": "code",
   "execution_count": 8,
   "metadata": {},
   "outputs": [],
   "source": [
    "# load a sample song\n",
    "midi_data = pretty_midi.PrettyMIDI('data/midi_files/ABBA_-_Dancing_Queen.mid')"
   ]
  },
  {
   "cell_type": "code",
   "execution_count": 9,
   "metadata": {},
   "outputs": [
    {
     "name": "stdout",
     "output_type": "stream",
     "text": [
      "First 10 notes: [42, 42, 42, 42, 42, 42, 42, 42, 69, 42]\n"
     ]
    }
   ],
   "source": [
    "# Assuming we're focusing on the first instrument for simplicity\n",
    "first_instrument = midi_data.instruments[0]\n",
    "notes = [note.pitch for note in first_instrument.notes]\n",
    "\n",
    "print(f\"First 10 notes: {notes[:10]}\")\n"
   ]
  },
  {
   "cell_type": "code",
   "execution_count": 13,
   "metadata": {},
   "outputs": [
    {
     "data": {
      "text/plain": [
       "[Instrument(program=0, is_drum=True, name=\"\"),\n",
       " Instrument(program=1, is_drum=False, name=\"\"),\n",
       " Instrument(program=33, is_drum=False, name=\"\"),\n",
       " Instrument(program=94, is_drum=False, name=\"\"),\n",
       " Instrument(program=52, is_drum=False, name=\"\"),\n",
       " Instrument(program=90, is_drum=False, name=\"\"),\n",
       " Instrument(program=1, is_drum=False, name=\"\"),\n",
       " Instrument(program=94, is_drum=False, name=\"\"),\n",
       " Instrument(program=105, is_drum=False, name=\"\"),\n",
       " Instrument(program=48, is_drum=False, name=\"\")]"
      ]
     },
     "execution_count": 13,
     "metadata": {},
     "output_type": "execute_result"
    }
   ],
   "source": [
    "midi_data.instruments"
   ]
  },
  {
   "cell_type": "code",
   "execution_count": 16,
   "metadata": {},
   "outputs": [],
   "source": [
    "# Collect pitches and velocities from all notes and all instruments\n",
    "pitches = []\n",
    "velocities = []\n",
    "for instrument in midi_data.instruments:\n",
    "    for note in instrument.notes:\n",
    "        pitches.append(note.pitch)\n",
    "        velocities.append(note.velocity)\n",
    "\n",
    "# Normalize the features if necessary\n",
    "pitches_normalized = np.array(pitches) / 127.0  # MIDI pitches range from 0 to 127\n",
    "velocities_normalized = np.array(velocities) / 127.0"
   ]
  },
  {
   "cell_type": "code",
   "execution_count": 21,
   "metadata": {},
   "outputs": [],
   "source": [
    "tempo_changes_times, tempi = midi_data.get_tempo_changes()"
   ]
  },
  {
   "cell_type": "code",
   "execution_count": 22,
   "metadata": {},
   "outputs": [
    {
     "data": {
      "text/plain": [
       "(array([0.]), array([100.39992637]))"
      ]
     },
     "execution_count": 22,
     "metadata": {},
     "output_type": "execute_result"
    }
   ],
   "source": [
    "tempo_changes_times, tempi"
   ]
  },
  {
   "cell_type": "code",
   "execution_count": 23,
   "metadata": {},
   "outputs": [],
   "source": [
    "beats = midi_data.get_beats()\n",
    "downbeats = midi_data.get_downbeats()\n"
   ]
  },
  {
   "cell_type": "code",
   "execution_count": 27,
   "metadata": {},
   "outputs": [
    {
     "data": {
      "text/plain": [
       "(99, 396)"
      ]
     },
     "execution_count": 27,
     "metadata": {},
     "output_type": "execute_result"
    }
   ],
   "source": [
    "len(downbeats), len(beats)"
   ]
  },
  {
   "cell_type": "code",
   "execution_count": 32,
   "metadata": {},
   "outputs": [
    {
     "data": {
      "text/plain": [
       "(array([7.20800847e-01, 9.73786712e+01, 7.04514558e+01, 6.86702903e+00,\n",
       "        1.33581367e+02, 5.59524101e+00, 9.75367469e+01, 3.42262541e-01,\n",
       "        4.07827760e+01, 1.94031499e+02, 5.84167934e-02, 5.10982492e+01]),\n",
       " 12)"
      ]
     },
     "execution_count": 32,
     "metadata": {},
     "output_type": "execute_result"
    }
   ],
   "source": [
    "chroma = midi_data.get_chroma()\n",
    "chroma_mean = np.mean(chroma, axis=1)  # Mean intensity of each pitch class\n",
    "chroma_mean, len(chroma)"
   ]
  },
  {
   "cell_type": "code",
   "execution_count": 34,
   "metadata": {},
   "outputs": [
    {
     "data": {
      "text/plain": [
       "12"
      ]
     },
     "execution_count": 34,
     "metadata": {},
     "output_type": "execute_result"
    }
   ],
   "source": [
    "def compute_pitch_class_transition_matrix(midi_data):\n",
    "    transitions = np.zeros((12, 12))\n",
    "    for instrument in midi_data.instruments:\n",
    "        for i, note in enumerate(instrument.notes[:-1]):\n",
    "            current_pitch_class = note.pitch % 12\n",
    "            next_pitch_class = instrument.notes[i + 1].pitch % 12\n",
    "            transitions[current_pitch_class, next_pitch_class] += 1\n",
    "    # Normalize the matrix\n",
    "    transitions /= np.sum(transitions, axis=1, keepdims=True)\n",
    "    return transitions\n",
    "\n",
    "pitch_class_transitions = compute_pitch_class_transition_matrix(midi_data)\n",
    "len(pitch_class_transitions)"
   ]
  },
  {
   "cell_type": "code",
   "execution_count": 36,
   "metadata": {},
   "outputs": [
    {
     "data": {
      "text/plain": [
       "16778"
      ]
     },
     "execution_count": 36,
     "metadata": {},
     "output_type": "execute_result"
    }
   ],
   "source": [
    "input_vector = np.concatenate([\n",
    "    pitches_normalized, velocities_normalized, chroma_mean,\n",
    "    pitch_class_transitions.flatten()\n",
    "    # Include other features as needed\n",
    "])\n",
    "len(input_vector)"
   ]
  },
  {
   "cell_type": "code",
   "execution_count": 14,
   "metadata": {},
   "outputs": [
    {
     "name": "stdout",
     "output_type": "stream",
     "text": [
      "Initial estimated tempo: 209.43542812520064 BPM\n"
     ]
    }
   ],
   "source": [
    "tempo_changes = midi_data.get_tempo_changes()\n",
    "initial_tempo = midi_data.estimate_tempo()\n",
    "\n",
    "print(f\"Initial estimated tempo: {initial_tempo} BPM\")\n"
   ]
  },
  {
   "cell_type": "code",
   "execution_count": 15,
   "metadata": {},
   "outputs": [
    {
     "name": "stdout",
     "output_type": "stream",
     "text": [
      "Instrument programs: [1, 33, 94, 52, 90, 1, 94, 105, 48]\n"
     ]
    }
   ],
   "source": [
    "instrument_names = [instrument.program for instrument in midi_data.instruments if not instrument.is_drum]\n",
    "\n",
    "print(f\"Instrument programs: {instrument_names}\")\n"
   ]
  },
  {
   "cell_type": "code",
   "execution_count": 112,
   "metadata": {},
   "outputs": [
    {
     "data": {
      "image/png": "[encoded data removed]",
      "text/plain": [
       "<Figure size 1200x400 with 1 Axes>"
      ]
     },
     "metadata": {},
     "output_type": "display_data"
    }
   ],
   "source": [
    "import matplotlib.pyplot as plt\n",
    "\n",
    "# Generate a piano roll for the first instrument\n",
    "piano_roll = first_instrument.get_piano_roll(fs=10)\n",
    "\n",
    "plt.figure(figsize=(12, 4))\n",
    "plt.imshow(piano_roll, aspect='auto', origin='lower', cmap='plasma')\n",
    "plt.title('Piano Roll')\n",
    "plt.xlabel('Time')\n",
    "plt.ylabel('Pitch')\n",
    "plt.show()\n"
   ]
  },
  {
   "cell_type": "code",
   "execution_count": 40,
   "metadata": {},
   "outputs": [],
   "source": [
    "# Function to extract the tempo, instrument programs and notes from a MIDI file\n",
    "def extract_midi_features(midi_file_path):\n",
    "    midi_data = pretty_midi.PrettyMIDI(midi_file_path)\n",
    "\n",
    "    # Tempo\n",
    "    initial_tempo = midi_data.estimate_tempo()\n",
    "\n",
    "    # Instrument programs\n",
    "    instrument_programs = [instrument.program for instrument in midi_data.instruments if not instrument.is_drum]\n",
    "\n",
    "    # Notes\n",
    "    first_instrument = midi_data.instruments[0]\n",
    "    notes = [note.pitch for note in first_instrument.notes]\n",
    "\n",
    "    return initial_tempo, instrument_programs, notes\n"
   ]
  },
  {
   "cell_type": "code",
   "execution_count": 53,
   "metadata": {},
   "outputs": [
    {
     "name": "stderr",
     "output_type": "stream",
     "text": [
      "/home/amaruy/.conda/envs/logdeep/lib/python3.9/site-packages/pretty_midi/pretty_midi.py:100: RuntimeWarning: Tempo, Key or Time signature change events found on non-zero tracks.  This is not a valid type 0 or type 1 MIDI file.  Tempo, Key or Time Signature may be wrong.\n",
      "  warnings.warn(\n"
     ]
    },
    {
     "name": "stdout",
     "output_type": "stream",
     "text": [
      "Error processing tell_it_like_it_is: data byte must be in range 0..127\n",
      "Error processing girls: Could not decode key with 1 flats and mode 255\n",
      "Error processing movin'_out: data byte must be in range 0..127\n",
      "Error processing pressure: data byte must be in range 0..127\n",
      "Error processing on_the_down_low: \n",
      "Error processing leader_of_the_band: Could not decode key with 4 flats and mode 255\n",
      "Error processing lazarus: Could not decode key with 16 sharps and mode 1\n"
     ]
    }
   ],
   "source": [
    "import numpy as np\n",
    "import pretty_midi\n",
    "import os\n",
    "import pickle\n",
    "\n",
    "def extract_features(midi_path, max_length=2048):\n",
    "    midi_data = pretty_midi.PrettyMIDI(midi_path)\n",
    "\n",
    "    # Feature 1: Normalized Pitches\n",
    "    pitches = [note.pitch for instrument in midi_data.instruments for note in instrument.notes]\n",
    "    pitches_normalized = np.array(pitches) / 127.0\n",
    "    pitches_feature = np.zeros(max_length)\n",
    "    pitches_feature[:len(pitches_normalized)] = pitches_normalized[:max_length]\n",
    "\n",
    "    # Feature 2: Normalized Velocities\n",
    "    velocities = [note.velocity for instrument in midi_data.instruments for note in instrument.notes]\n",
    "    velocities_normalized = np.array(velocities) / 127.0\n",
    "    velocities_feature = np.zeros(max_length)\n",
    "    velocities_feature[:len(velocities_normalized)] = velocities_normalized[:max_length]\n",
    "\n",
    "    # Feature 3: Mean Chroma\n",
    "    chroma = midi_data.get_chroma()\n",
    "    chroma_mean = np.mean(chroma, axis=1)\n",
    "    # Assuming chroma_mean is already of fixed length (12), no need for truncation/padding\n",
    "\n",
    "    # Combine features into a single vector\n",
    "    feature_vector = np.concatenate([pitches_feature, velocities_feature, chroma_mean])\n",
    "\n",
    "    return feature_vector\n",
    "\n",
    "def process_midi_files(directory, output_file):\n",
    "    feature_vectors = {}\n",
    "\n",
    "    # Process each MIDI file in the directory\n",
    "    for filename in os.listdir(directory):\n",
    "        if filename.endswith(\".mid\"):\n",
    "\n",
    "            song = os.path.basename(filename).replace('.mid', '').lower().split('_-_')[1]\n",
    "            midi_path = os.path.join(directory, filename)\n",
    "            try:\n",
    "                feature_vector = extract_features(midi_path)\n",
    "                feature_vectors[song] = feature_vector\n",
    "            except Exception as e:\n",
    "                print(f\"Error processing {song}: {e}\")\n",
    "\n",
    "    # Save the feature vectors to a file\n",
    "    with open(output_file, 'wb') as f:\n",
    "        pickle.dump(feature_vectors, f)\n",
    "\n",
    "# Example usage\n",
    "midi_directory = 'data/midi_files'\n",
    "output_file = 'midi_feature_vectors.pkl'\n",
    "process_midi_files(midi_directory, output_file)\n"
   ]
  },
  {
   "cell_type": "code",
   "execution_count": 54,
   "metadata": {},
   "outputs": [
    {
     "data": {
      "text/plain": [
       "(611, 2012)"
      ]
     },
     "execution_count": 54,
     "metadata": {},
     "output_type": "execute_result"
    }
   ],
   "source": [
    "# Load the feature vectors\n",
    "with open('midi_feature_vectors.pkl', 'rb') as f:\n",
    "    feature_vectors = pickle.load(f)\n",
    "\n",
    "# length of the feature vectors  and of one vector in the dict\n",
    "len(feature_vectors), len(feature_vectors['fernando'])"
   ]
  },
  {
   "cell_type": "code",
   "execution_count": 55,
   "metadata": {},
   "outputs": [
    {
     "data": {
      "text/plain": [
       "array([ 0.33070866,  0.33070866,  0.33070866, ..., 91.69800889,\n",
       "        2.25830821, 45.50761023])"
      ]
     },
     "execution_count": 55,
     "metadata": {},
     "output_type": "execute_result"
    }
   ],
   "source": [
    "feature_vectors['fernando']"
   ]
  },
  {
   "cell_type": "code",
   "execution_count": 70,
   "metadata": {},
   "outputs": [
    {
     "ename": "KeyboardInterrupt",
     "evalue": "",
     "output_type": "error",
     "traceback": [
      "\u001b[0;31m---------------------------------------------------------------------------\u001b[0m",
      "\u001b[0;31mKeyboardInterrupt\u001b[0m                         Traceback (most recent call last)",
      "Cell \u001b[0;32mIn[70], line 21\u001b[0m\n\u001b[1;32m     19\u001b[0m \u001b[38;5;28;01mtry\u001b[39;00m:\n\u001b[1;32m     20\u001b[0m     artist, song \u001b[38;5;241m=\u001b[39m os\u001b[38;5;241m.\u001b[39mpath\u001b[38;5;241m.\u001b[39mbasename(file)\u001b[38;5;241m.\u001b[39mreplace(\u001b[38;5;124m'\u001b[39m\u001b[38;5;124m.mid\u001b[39m\u001b[38;5;124m'\u001b[39m, \u001b[38;5;124m'\u001b[39m\u001b[38;5;124m'\u001b[39m)\u001b[38;5;241m.\u001b[39msplit(\u001b[38;5;124m'\u001b[39m\u001b[38;5;124m_-_\u001b[39m\u001b[38;5;124m'\u001b[39m)\n\u001b[0;32m---> 21\u001b[0m     tempo, instruments, notes \u001b[38;5;241m=\u001b[39m \u001b[43mextract_midi_features\u001b[49m\u001b[43m(\u001b[49m\u001b[43mfile\u001b[49m\u001b[43m)\u001b[49m\n\u001b[1;32m     23\u001b[0m     midi_features[\u001b[38;5;124m'\u001b[39m\u001b[38;5;124martist\u001b[39m\u001b[38;5;124m'\u001b[39m]\u001b[38;5;241m.\u001b[39mappend(artist)\n\u001b[1;32m     24\u001b[0m     midi_features[\u001b[38;5;124m'\u001b[39m\u001b[38;5;124msong\u001b[39m\u001b[38;5;124m'\u001b[39m]\u001b[38;5;241m.\u001b[39mappend(song)\n",
      "Cell \u001b[0;32mIn[40], line 3\u001b[0m, in \u001b[0;36mextract_midi_features\u001b[0;34m(midi_file_path)\u001b[0m\n\u001b[1;32m      2\u001b[0m \u001b[38;5;28;01mdef\u001b[39;00m \u001b[38;5;21mextract_midi_features\u001b[39m(midi_file_path):\n\u001b[0;32m----> 3\u001b[0m     midi_data \u001b[38;5;241m=\u001b[39m \u001b[43mpretty_midi\u001b[49m\u001b[38;5;241;43m.\u001b[39;49m\u001b[43mPrettyMIDI\u001b[49m\u001b[43m(\u001b[49m\u001b[43mmidi_file_path\u001b[49m\u001b[43m)\u001b[49m\n\u001b[1;32m      5\u001b[0m     \u001b[38;5;66;03m# Tempo\u001b[39;00m\n\u001b[1;32m      6\u001b[0m     initial_tempo \u001b[38;5;241m=\u001b[39m midi_data\u001b[38;5;241m.\u001b[39mestimate_tempo()\n",
      "File \u001b[0;32m~/.conda/envs/logdeep/lib/python3.9/site-packages/pretty_midi/pretty_midi.py:63\u001b[0m, in \u001b[0;36mPrettyMIDI.__init__\u001b[0;34m(self, midi_file, resolution, initial_tempo)\u001b[0m\n\u001b[1;32m     59\u001b[0m \u001b[38;5;28;01mif\u001b[39;00m midi_file \u001b[38;5;129;01mis\u001b[39;00m \u001b[38;5;129;01mnot\u001b[39;00m \u001b[38;5;28;01mNone\u001b[39;00m:\n\u001b[1;32m     60\u001b[0m     \u001b[38;5;66;03m# Load in the MIDI data using the midi module\u001b[39;00m\n\u001b[1;32m     61\u001b[0m     \u001b[38;5;28;01mif\u001b[39;00m \u001b[38;5;28misinstance\u001b[39m(midi_file, six\u001b[38;5;241m.\u001b[39mstring_types):\n\u001b[1;32m     62\u001b[0m         \u001b[38;5;66;03m# If a string was given, pass it as the string filename\u001b[39;00m\n\u001b[0;32m---> 63\u001b[0m         midi_data \u001b[38;5;241m=\u001b[39m \u001b[43mmido\u001b[49m\u001b[38;5;241;43m.\u001b[39;49m\u001b[43mMidiFile\u001b[49m\u001b[43m(\u001b[49m\u001b[43mfilename\u001b[49m\u001b[38;5;241;43m=\u001b[39;49m\u001b[43mmidi_file\u001b[49m\u001b[43m)\u001b[49m\n\u001b[1;32m     64\u001b[0m     \u001b[38;5;28;01melse\u001b[39;00m:\n\u001b[1;32m     65\u001b[0m         \u001b[38;5;66;03m# Otherwise, try passing it in as a file pointer\u001b[39;00m\n\u001b[1;32m     66\u001b[0m         midi_data \u001b[38;5;241m=\u001b[39m mido\u001b[38;5;241m.\u001b[39mMidiFile(file\u001b[38;5;241m=\u001b[39mmidi_file)\n",
      "File \u001b[0;32m~/.conda/envs/logdeep/lib/python3.9/site-packages/mido/midifiles/midifiles.py:320\u001b[0m, in \u001b[0;36mMidiFile.__init__\u001b[0;34m(self, filename, file, type, ticks_per_beat, charset, debug, clip, tracks)\u001b[0m\n\u001b[1;32m    318\u001b[0m \u001b[38;5;28;01melif\u001b[39;00m \u001b[38;5;28mself\u001b[39m\u001b[38;5;241m.\u001b[39mfilename \u001b[38;5;129;01mis\u001b[39;00m \u001b[38;5;129;01mnot\u001b[39;00m \u001b[38;5;28;01mNone\u001b[39;00m:\n\u001b[1;32m    319\u001b[0m     \u001b[38;5;28;01mwith\u001b[39;00m \u001b[38;5;28mopen\u001b[39m(filename, \u001b[38;5;124m'\u001b[39m\u001b[38;5;124mrb\u001b[39m\u001b[38;5;124m'\u001b[39m) \u001b[38;5;28;01mas\u001b[39;00m file:\n\u001b[0;32m--> 320\u001b[0m         \u001b[38;5;28;43mself\u001b[39;49m\u001b[38;5;241;43m.\u001b[39;49m\u001b[43m_load\u001b[49m\u001b[43m(\u001b[49m\u001b[43mfile\u001b[49m\u001b[43m)\u001b[49m\n",
      "File \u001b[0;32m~/.conda/envs/logdeep/lib/python3.9/site-packages/mido/midifiles/midifiles.py:371\u001b[0m, in \u001b[0;36mMidiFile._load\u001b[0;34m(self, infile)\u001b[0m\n\u001b[1;32m    368\u001b[0m \u001b[38;5;28;01mif\u001b[39;00m \u001b[38;5;28mself\u001b[39m\u001b[38;5;241m.\u001b[39mdebug:\n\u001b[1;32m    369\u001b[0m     _dbg(\u001b[38;5;124mf\u001b[39m\u001b[38;5;124m'\u001b[39m\u001b[38;5;124mTrack \u001b[39m\u001b[38;5;132;01m{\u001b[39;00mi\u001b[38;5;132;01m}\u001b[39;00m\u001b[38;5;124m:\u001b[39m\u001b[38;5;124m'\u001b[39m)\n\u001b[0;32m--> 371\u001b[0m \u001b[38;5;28mself\u001b[39m\u001b[38;5;241m.\u001b[39mtracks\u001b[38;5;241m.\u001b[39mappend(\u001b[43mread_track\u001b[49m\u001b[43m(\u001b[49m\u001b[43minfile\u001b[49m\u001b[43m,\u001b[49m\n\u001b[1;32m    372\u001b[0m \u001b[43m                              \u001b[49m\u001b[43mdebug\u001b[49m\u001b[38;5;241;43m=\u001b[39;49m\u001b[38;5;28;43mself\u001b[39;49m\u001b[38;5;241;43m.\u001b[39;49m\u001b[43mdebug\u001b[49m\u001b[43m,\u001b[49m\n\u001b[1;32m    373\u001b[0m \u001b[43m                              \u001b[49m\u001b[43mclip\u001b[49m\u001b[38;5;241;43m=\u001b[39;49m\u001b[38;5;28;43mself\u001b[39;49m\u001b[38;5;241;43m.\u001b[39;49m\u001b[43mclip\u001b[49m\u001b[43m)\u001b[49m)\n",
      "File \u001b[0;32m~/.conda/envs/logdeep/lib/python3.9/site-packages/mido/midifiles/midifiles.py:218\u001b[0m, in \u001b[0;36mread_track\u001b[0;34m(infile, debug, clip)\u001b[0m\n\u001b[1;32m    216\u001b[0m     msg \u001b[38;5;241m=\u001b[39m read_sysex(infile, delta, clip)\n\u001b[1;32m    217\u001b[0m \u001b[38;5;28;01melse\u001b[39;00m:\n\u001b[0;32m--> 218\u001b[0m     msg \u001b[38;5;241m=\u001b[39m \u001b[43mread_message\u001b[49m\u001b[43m(\u001b[49m\u001b[43minfile\u001b[49m\u001b[43m,\u001b[49m\u001b[43m \u001b[49m\u001b[43mstatus_byte\u001b[49m\u001b[43m,\u001b[49m\u001b[43m \u001b[49m\u001b[43mpeek_data\u001b[49m\u001b[43m,\u001b[49m\u001b[43m \u001b[49m\u001b[43mdelta\u001b[49m\u001b[43m,\u001b[49m\u001b[43m \u001b[49m\u001b[43mclip\u001b[49m\u001b[43m)\u001b[49m\n\u001b[1;32m    220\u001b[0m track\u001b[38;5;241m.\u001b[39mappend(msg)\n\u001b[1;32m    222\u001b[0m \u001b[38;5;28;01mif\u001b[39;00m debug:\n",
      "File \u001b[0;32m~/.conda/envs/logdeep/lib/python3.9/site-packages/mido/midifiles/midifiles.py:133\u001b[0m, in \u001b[0;36mread_message\u001b[0;34m(infile, status_byte, peek_data, delta, clip)\u001b[0m\n\u001b[1;32m    130\u001b[0m         \u001b[38;5;28;01mif\u001b[39;00m byte \u001b[38;5;241m>\u001b[39m \u001b[38;5;241m127\u001b[39m:\n\u001b[1;32m    131\u001b[0m             \u001b[38;5;28;01mraise\u001b[39;00m \u001b[38;5;167;01mOSError\u001b[39;00m(\u001b[38;5;124m'\u001b[39m\u001b[38;5;124mdata byte must be in range 0..127\u001b[39m\u001b[38;5;124m'\u001b[39m)\n\u001b[0;32m--> 133\u001b[0m \u001b[38;5;28;01mreturn\u001b[39;00m \u001b[43mMessage\u001b[49m\u001b[38;5;241;43m.\u001b[39;49m\u001b[43mfrom_bytes\u001b[49m\u001b[43m(\u001b[49m\u001b[43m[\u001b[49m\u001b[43mstatus_byte\u001b[49m\u001b[43m]\u001b[49m\u001b[43m \u001b[49m\u001b[38;5;241;43m+\u001b[39;49m\u001b[43m \u001b[49m\u001b[43mdata_bytes\u001b[49m\u001b[43m,\u001b[49m\u001b[43m \u001b[49m\u001b[43mtime\u001b[49m\u001b[38;5;241;43m=\u001b[39;49m\u001b[43mdelta\u001b[49m\u001b[43m)\u001b[49m\n",
      "File \u001b[0;32m~/.conda/envs/logdeep/lib/python3.9/site-packages/mido/messages/messages.py:163\u001b[0m, in \u001b[0;36mMessage.from_bytes\u001b[0;34m(cl, data, time)\u001b[0m\n\u001b[1;32m    156\u001b[0m \u001b[38;5;250m\u001b[39m\u001b[38;5;124;03m\"\"\"Parse a byte encoded message.\u001b[39;00m\n\u001b[1;32m    157\u001b[0m \n\u001b[1;32m    158\u001b[0m \u001b[38;5;124;03mAccepts a byte string or any iterable of integers.\u001b[39;00m\n\u001b[1;32m    159\u001b[0m \n\u001b[1;32m    160\u001b[0m \u001b[38;5;124;03mThis is the reverse of msg.bytes() or msg.bin().\u001b[39;00m\n\u001b[1;32m    161\u001b[0m \u001b[38;5;124;03m\"\"\"\u001b[39;00m\n\u001b[1;32m    162\u001b[0m msg \u001b[38;5;241m=\u001b[39m cl\u001b[38;5;241m.\u001b[39m\u001b[38;5;21m__new__\u001b[39m(cl)\n\u001b[0;32m--> 163\u001b[0m msgdict \u001b[38;5;241m=\u001b[39m \u001b[43mdecode_message\u001b[49m\u001b[43m(\u001b[49m\u001b[43mdata\u001b[49m\u001b[43m,\u001b[49m\u001b[43m \u001b[49m\u001b[43mtime\u001b[49m\u001b[38;5;241;43m=\u001b[39;49m\u001b[43mtime\u001b[49m\u001b[43m)\u001b[49m\n\u001b[1;32m    164\u001b[0m \u001b[38;5;28;01mif\u001b[39;00m \u001b[38;5;124m'\u001b[39m\u001b[38;5;124mdata\u001b[39m\u001b[38;5;124m'\u001b[39m \u001b[38;5;129;01min\u001b[39;00m msgdict:\n\u001b[1;32m    165\u001b[0m     msgdict[\u001b[38;5;124m'\u001b[39m\u001b[38;5;124mdata\u001b[39m\u001b[38;5;124m'\u001b[39m] \u001b[38;5;241m=\u001b[39m SysexData(msgdict[\u001b[38;5;124m'\u001b[39m\u001b[38;5;124mdata\u001b[39m\u001b[38;5;124m'\u001b[39m])\n",
      "File \u001b[0;32m~/.conda/envs/logdeep/lib/python3.9/site-packages/mido/messages/decode.py:103\u001b[0m, in \u001b[0;36mdecode_message\u001b[0;34m(msg_bytes, time, check)\u001b[0m\n\u001b[1;32m    100\u001b[0m         \u001b[38;5;28;01mraise\u001b[39;00m \u001b[38;5;167;01mValueError\u001b[39;00m(\u001b[38;5;124mf\u001b[39m\u001b[38;5;124m'\u001b[39m\u001b[38;5;124minvalid sysex end byte \u001b[39m\u001b[38;5;132;01m{\u001b[39;00mend\u001b[38;5;132;01m!r}\u001b[39;00m\u001b[38;5;124m'\u001b[39m)\n\u001b[1;32m    102\u001b[0m \u001b[38;5;28;01mif\u001b[39;00m check:\n\u001b[0;32m--> 103\u001b[0m     \u001b[43mcheck_data\u001b[49m\u001b[43m(\u001b[49m\u001b[43mdata\u001b[49m\u001b[43m)\u001b[49m\n\u001b[1;32m    105\u001b[0m \u001b[38;5;28;01mif\u001b[39;00m status_byte \u001b[38;5;129;01min\u001b[39;00m _SPECIAL_CASES:\n\u001b[1;32m    106\u001b[0m     \u001b[38;5;28;01mif\u001b[39;00m status_byte \u001b[38;5;129;01min\u001b[39;00m CHANNEL_MESSAGES:\n",
      "File \u001b[0;32m~/.conda/envs/logdeep/lib/python3.9/site-packages/mido/messages/checks.py:45\u001b[0m, in \u001b[0;36mcheck_data\u001b[0;34m(data_bytes)\u001b[0m\n\u001b[1;32m     44\u001b[0m \u001b[38;5;28;01mdef\u001b[39;00m \u001b[38;5;21mcheck_data\u001b[39m(data_bytes):\n\u001b[0;32m---> 45\u001b[0m     \u001b[38;5;28;01mfor\u001b[39;00m byte \u001b[38;5;129;01min\u001b[39;00m data_bytes:\n\u001b[1;32m     46\u001b[0m         check_data_byte(byte)\n",
      "\u001b[0;31mKeyboardInterrupt\u001b[0m: "
     ]
    }
   ],
   "source": [
    "# create a df of tempo, instruments and notes from all files in midi_files\n",
    "# get the list of all midi files\n",
    "import os\n",
    "\n",
    "midi_files_dir = 'data/midi_files'\n",
    "midi_files = [os.path.join(midi_files_dir, file) for file in os.listdir(midi_files_dir) if file.endswith('.mid')]\n",
    "\n",
    "# Create a dictionary to store the extracted features\n",
    "midi_features = {\n",
    "    'artist': [],\n",
    "    'song': [],\n",
    "    'tempo': [],\n",
    "    'instruments': [],\n",
    "    'notes': []\n",
    "}\n",
    "\n",
    "# Extract features from each MIDI file, splitting the name on \"_-_\" between artist and song\n",
    "for file in midi_files:\n",
    "    try:\n",
    "        artist, song = os.path.basename(file).replace('.mid', '').split('_-_')\n",
    "        tempo, instruments, notes = extract_midi_features(file)\n",
    "\n",
    "        midi_features['artist'].append(artist)\n",
    "        midi_features['song'].append(song)\n",
    "        midi_features['tempo'].append(tempo)\n",
    "        midi_features['instruments'].append(instruments)\n",
    "        midi_features['notes'].append(notes)\n",
    "    except(Exception) as e:\n",
    "        print(f\"Error processing file: {file}\")\n",
    "        print(f\"Error: {e}\")\n",
    "\n",
    "# Create a DataFrame from the dictionary\n",
    "midi_features_df = pd.DataFrame(midi_features)\n"
   ]
  },
  {
   "cell_type": "code",
   "execution_count": null,
   "metadata": {},
   "outputs": [
    {
     "data": {
      "text/html": [
       "<div>\n",
       "<style scoped>\n",
       "    .dataframe tbody tr th:only-of-type {\n",
       "        vertical-align: middle;\n",
       "    }\n",
       "\n",
       "    .dataframe tbody tr th {\n",
       "        vertical-align: top;\n",
       "    }\n",
       "\n",
       "    .dataframe thead th {\n",
       "        text-align: right;\n",
       "    }\n",
       "</style>\n",
       "<table border=\"1\" class=\"dataframe\">\n",
       "  <thead>\n",
       "    <tr style=\"text-align: right;\">\n",
       "      <th></th>\n",
       "      <th>artist</th>\n",
       "      <th>song</th>\n",
       "      <th>tempo</th>\n",
       "      <th>instruments</th>\n",
       "      <th>notes</th>\n",
       "    </tr>\n",
       "  </thead>\n",
       "  <tbody>\n",
       "    <tr>\n",
       "      <th>0</th>\n",
       "      <td>1910_Fruitgum_Company</td>\n",
       "      <td>Simon_Says</td>\n",
       "      <td>259.928524</td>\n",
       "      <td>[18, 34, 48, 67, 25, 0, 0, 61, 53, 16]</td>\n",
       "      <td>[61, 73, 85, 74, 62, 86, 66, 78, 90, 76, 64, 8...</td>\n",
       "    </tr>\n",
       "    <tr>\n",
       "      <th>1</th>\n",
       "      <td>2_Unlimited</td>\n",
       "      <td>Get_Ready_for_This</td>\n",
       "      <td>257.189205</td>\n",
       "      <td>[34, 33, 81, 19, 55, 48, 7, 127, 48, 25]</td>\n",
       "      <td>[28, 28, 23, 28, 21, 21, 23, 35, 28, 28, 23, 2...</td>\n",
       "    </tr>\n",
       "    <tr>\n",
       "      <th>2</th>\n",
       "      <td>2_Unlimited</td>\n",
       "      <td>Let_the_Beat_Control_Your_Body</td>\n",
       "      <td>257.074121</td>\n",
       "      <td>[53, 80, 39, 55, 85, 118, 38, 50, 48, 48]</td>\n",
       "      <td>[55, 55, 56, 55, 55, 55, 54, 53, 55, 55, 56, 5...</td>\n",
       "    </tr>\n",
       "    <tr>\n",
       "      <th>3</th>\n",
       "      <td>2_Unlimited</td>\n",
       "      <td>Tribal_Dance</td>\n",
       "      <td>257.126357</td>\n",
       "      <td>[65, 33, 38, 0, 52, 49, 29, 55, 47, 119]</td>\n",
       "      <td>[65, 48, 41, 53, 65, 48, 41, 53, 65, 48, 41, 5...</td>\n",
       "    </tr>\n",
       "    <tr>\n",
       "      <th>4</th>\n",
       "      <td>2_Unlimited</td>\n",
       "      <td>Twilight_Zone</td>\n",
       "      <td>236.002360</td>\n",
       "      <td>[90, 55, 82, 32, 103, 87, 118]</td>\n",
       "      <td>[78, 77, 78, 77, 78, 77, 78, 77, 78, 77, 78, 7...</td>\n",
       "    </tr>\n",
       "  </tbody>\n",
       "</table>\n",
       "</div>"
      ],
      "text/plain": [
       "                  artist                            song       tempo  \\\n",
       "0  1910_Fruitgum_Company                      Simon_Says  259.928524   \n",
       "1            2_Unlimited              Get_Ready_for_This  257.189205   \n",
       "2            2_Unlimited  Let_the_Beat_Control_Your_Body  257.074121   \n",
       "3            2_Unlimited                    Tribal_Dance  257.126357   \n",
       "4            2_Unlimited                   Twilight_Zone  236.002360   \n",
       "\n",
       "                                 instruments  \\\n",
       "0     [18, 34, 48, 67, 25, 0, 0, 61, 53, 16]   \n",
       "1   [34, 33, 81, 19, 55, 48, 7, 127, 48, 25]   \n",
       "2  [53, 80, 39, 55, 85, 118, 38, 50, 48, 48]   \n",
       "3   [65, 33, 38, 0, 52, 49, 29, 55, 47, 119]   \n",
       "4             [90, 55, 82, 32, 103, 87, 118]   \n",
       "\n",
       "                                               notes  \n",
       "0  [61, 73, 85, 74, 62, 86, 66, 78, 90, 76, 64, 8...  \n",
       "1  [28, 28, 23, 28, 21, 21, 23, 35, 28, 28, 23, 2...  \n",
       "2  [55, 55, 56, 55, 55, 55, 54, 53, 55, 55, 56, 5...  \n",
       "3  [65, 48, 41, 53, 65, 48, 41, 53, 65, 48, 41, 5...  \n",
       "4  [78, 77, 78, 77, 78, 77, 78, 77, 78, 77, 78, 7...  "
      ]
     },
     "execution_count": 42,
     "metadata": {},
     "output_type": "execute_result"
    }
   ],
   "source": [
    "midi_features_df.head()"
   ]
  },
  {
   "cell_type": "code",
   "execution_count": null,
   "metadata": {},
   "outputs": [],
   "source": [
    "# artist and song to lowercase and replace \"_\" with \" \"\n",
    "midi_features_df['artist'] = midi_features_df['artist'].str.lower().str.replace('_', ' ')\n",
    "midi_features_df['song'] = midi_features_df['song'].str.lower().str.replace('_', ' ')\n"
   ]
  },
  {
   "cell_type": "code",
   "execution_count": null,
   "metadata": {},
   "outputs": [],
   "source": [
    "# Save the dataframe to a CSV file\n",
    "midi_features_df.to_csv('data/midi_features.csv', index=False)"
   ]
  },
  {
   "cell_type": "code",
   "execution_count": 71,
   "metadata": {},
   "outputs": [],
   "source": [
    "# load the midi features\n",
    "midi_features_df = pd.read_csv('data/midi_features.csv')"
   ]
  },
  {
   "cell_type": "code",
   "execution_count": 72,
   "metadata": {},
   "outputs": [
    {
     "data": {
      "text/plain": [
       "<AxesSubplot: xlabel='instruments', ylabel='Count'>"
      ]
     },
     "execution_count": 72,
     "metadata": {},
     "output_type": "execute_result"
    },
    {
     "data": {
      "image/png": "[encoded data removed]",
      "text/plain": [
       "<Figure size 1000x600 with 1 Axes>"
      ]
     },
     "metadata": {},
     "output_type": "display_data"
    }
   ],
   "source": [
    "# how many instruments are used in the songs (distribution)\n",
    "instruments = midi_features_df['instruments'].apply(len)\n",
    "plt.figure(figsize=(10, 6))\n",
    "sns.histplot(instruments, bins=30, kde=True)"
   ]
  },
  {
   "cell_type": "code",
   "execution_count": 73,
   "metadata": {},
   "outputs": [
    {
     "data": {
      "text/plain": [
       "<AxesSubplot: xlabel='notes', ylabel='Count'>"
      ]
     },
     "execution_count": 73,
     "metadata": {},
     "output_type": "execute_result"
    },
    {
     "data": {
      "image/png": "[encoded data removed]",
      "text/plain": [
       "<Figure size 1000x600 with 1 Axes>"
      ]
     },
     "metadata": {},
     "output_type": "display_data"
    }
   ],
   "source": [
    "# how many notes are used in the songs (distribution)\n",
    "notes = midi_features_df['notes'].apply(len)\n",
    "plt.figure(figsize=(10, 6))\n",
    "sns.histplot(notes, bins=30, kde=True)"
   ]
  },
  {
   "cell_type": "code",
   "execution_count": 76,
   "metadata": {},
   "outputs": [
    {
     "data": {
      "text/plain": [
       "7176.0"
      ]
     },
     "execution_count": 76,
     "metadata": {},
     "output_type": "execute_result"
    }
   ],
   "source": [
    "# get the 75th percentile of the notes\n",
    "notes_75th_percentile = notes.quantile(0.90)\n",
    "notes_75th_percentile"
   ]
  },
  {
   "cell_type": "code",
   "execution_count": 77,
   "metadata": {},
   "outputs": [
    {
     "data": {
      "text/plain": [
       "<AxesSubplot: xlabel='tempo', ylabel='Count'>"
      ]
     },
     "execution_count": 77,
     "metadata": {},
     "output_type": "execute_result"
    },
    {
     "data": {
      "image/png": "[encoded data removed]",
      "text/plain": [
       "<Figure size 1000x600 with 1 Axes>"
      ]
     },
     "metadata": {},
     "output_type": "display_data"
    }
   ],
   "source": [
    "# what is the distribution of tempo in the songs\n",
    "plt.figure(figsize=(10, 6))\n",
    "sns.histplot(midi_features_df['tempo'], bins=30, kde=True)\n"
   ]
  },
  {
   "cell_type": "code",
   "execution_count": 88,
   "metadata": {},
   "outputs": [],
   "source": [
    "# merge the lyrics and midi features\n",
    "lyrics_midi = pd.merge(lyrics_combined, midi_features_df, on=['artist', 'song'], how='inner')"
   ]
  },
  {
   "cell_type": "code",
   "execution_count": 89,
   "metadata": {},
   "outputs": [
    {
     "data": {
      "text/plain": [
       "artist         0\n",
       "song           0\n",
       "lyrics         0\n",
       "tempo          0\n",
       "instruments    0\n",
       "notes          0\n",
       "dtype: int64"
      ]
     },
     "execution_count": 89,
     "metadata": {},
     "output_type": "execute_result"
    }
   ],
   "source": [
    "# analyze na's\n",
    "lyrics_midi.isna().sum()"
   ]
  },
  {
   "cell_type": "code",
   "execution_count": 90,
   "metadata": {},
   "outputs": [],
   "source": [
    "# drop na's\n",
    "lyrics_midi = lyrics_midi.dropna()\n",
    "\n",
    "# save the merged dataset\n",
    "lyrics_midi.to_csv('data/lyrics_midi.csv', index=False)"
   ]
  },
  {
   "cell_type": "code",
   "execution_count": 93,
   "metadata": {},
   "outputs": [
    {
     "data": {
      "text/html": [
       "<div>\n",
       "<style scoped>\n",
       "    .dataframe tbody tr th:only-of-type {\n",
       "        vertical-align: middle;\n",
       "    }\n",
       "\n",
       "    .dataframe tbody tr th {\n",
       "        vertical-align: top;\n",
       "    }\n",
       "\n",
       "    .dataframe thead th {\n",
       "        text-align: right;\n",
       "    }\n",
       "</style>\n",
       "<table border=\"1\" class=\"dataframe\">\n",
       "  <thead>\n",
       "    <tr style=\"text-align: right;\">\n",
       "      <th></th>\n",
       "      <th>artist</th>\n",
       "      <th>song</th>\n",
       "      <th>lyrics</th>\n",
       "      <th>tempo</th>\n",
       "      <th>instruments</th>\n",
       "      <th>notes</th>\n",
       "    </tr>\n",
       "  </thead>\n",
       "  <tbody>\n",
       "    <tr>\n",
       "      <th>0</th>\n",
       "      <td>elton john</td>\n",
       "      <td>candle in the wind</td>\n",
       "      <td>goodbye norma jean &amp; though i never knew you a...</td>\n",
       "      <td>244.874569</td>\n",
       "      <td>[0, 35, 73, 25, 29, 30, 53, 52]</td>\n",
       "      <td>[42, 42, 42, 42, 35, 35, 35, 35, 35, 35, 35, 3...</td>\n",
       "    </tr>\n",
       "    <tr>\n",
       "      <th>1</th>\n",
       "      <td>gerry rafferty</td>\n",
       "      <td>baker street</td>\n",
       "      <td>winding your way down on baker street &amp; lite i...</td>\n",
       "      <td>249.705623</td>\n",
       "      <td>[24, 4, 0, 0, 18, 33, 65, 66]</td>\n",
       "      <td>[73, 71, 69, 69, 69, 66, 69, 69, 69, 73, 71, 6...</td>\n",
       "    </tr>\n",
       "    <tr>\n",
       "      <th>2</th>\n",
       "      <td>gerry rafferty</td>\n",
       "      <td>right down the line</td>\n",
       "      <td>you know i need your love &amp; you've got that ho...</td>\n",
       "      <td>247.831052</td>\n",
       "      <td>[16, 27, 1, 34, 6, 26, 75, 75]</td>\n",
       "      <td>[57, 64, 72, 69, 62, 55, 71, 67, 71, 64, 67, 5...</td>\n",
       "    </tr>\n",
       "    <tr>\n",
       "      <th>3</th>\n",
       "      <td>2 unlimited</td>\n",
       "      <td>tribal dance</td>\n",
       "      <td>come on check it out ya'll &amp; (come on come on!...</td>\n",
       "      <td>257.126357</td>\n",
       "      <td>[65, 33, 38, 0, 52, 49, 29, 55, 47, 119]</td>\n",
       "      <td>[65, 48, 41, 53, 65, 48, 41, 53, 65, 48, 41, 5...</td>\n",
       "    </tr>\n",
       "    <tr>\n",
       "      <th>4</th>\n",
       "      <td>2 unlimited</td>\n",
       "      <td>let the beat control your body</td>\n",
       "      <td>let the beat control your body &amp; let the beat ...</td>\n",
       "      <td>257.074121</td>\n",
       "      <td>[53, 80, 39, 55, 85, 118, 38, 50, 48, 48]</td>\n",
       "      <td>[55, 55, 56, 55, 55, 55, 54, 53, 55, 55, 56, 5...</td>\n",
       "    </tr>\n",
       "  </tbody>\n",
       "</table>\n",
       "</div>"
      ],
      "text/plain": [
       "           artist                            song  \\\n",
       "0      elton john              candle in the wind   \n",
       "1  gerry rafferty                    baker street   \n",
       "2  gerry rafferty             right down the line   \n",
       "3     2 unlimited                    tribal dance   \n",
       "4     2 unlimited  let the beat control your body   \n",
       "\n",
       "                                              lyrics       tempo  \\\n",
       "0  goodbye norma jean & though i never knew you a...  244.874569   \n",
       "1  winding your way down on baker street & lite i...  249.705623   \n",
       "2  you know i need your love & you've got that ho...  247.831052   \n",
       "3  come on check it out ya'll & (come on come on!...  257.126357   \n",
       "4  let the beat control your body & let the beat ...  257.074121   \n",
       "\n",
       "                                 instruments  \\\n",
       "0            [0, 35, 73, 25, 29, 30, 53, 52]   \n",
       "1              [24, 4, 0, 0, 18, 33, 65, 66]   \n",
       "2             [16, 27, 1, 34, 6, 26, 75, 75]   \n",
       "3   [65, 33, 38, 0, 52, 49, 29, 55, 47, 119]   \n",
       "4  [53, 80, 39, 55, 85, 118, 38, 50, 48, 48]   \n",
       "\n",
       "                                               notes  \n",
       "0  [42, 42, 42, 42, 35, 35, 35, 35, 35, 35, 35, 3...  \n",
       "1  [73, 71, 69, 69, 69, 66, 69, 69, 69, 73, 71, 6...  \n",
       "2  [57, 64, 72, 69, 62, 55, 71, 67, 71, 64, 67, 5...  \n",
       "3  [65, 48, 41, 53, 65, 48, 41, 53, 65, 48, 41, 5...  \n",
       "4  [55, 55, 56, 55, 55, 55, 54, 53, 55, 55, 56, 5...  "
      ]
     },
     "execution_count": 93,
     "metadata": {},
     "output_type": "execute_result"
    }
   ],
   "source": [
    "lyrics_midi.head()"
   ]
  },
  {
   "cell_type": "code",
   "execution_count": null,
   "metadata": {},
   "outputs": [],
   "source": [
    "# heatmap of the correlation matrix\n",
    "plt.figure(figsize=(10, 8))\n",
    "sns.heatmap(lyrics_midi[3:].corr(), annot=True, cmap='coolwarm', fmt='.2f')"
   ]
  },
  {
   "cell_type": "markdown",
   "metadata": {},
   "source": [
    "#### Embeddings"
   ]
  },
  {
   "cell_type": "code",
   "execution_count": 94,
   "metadata": {},
   "outputs": [],
   "source": [
    "# load the word2vec model\n",
    "from gensim.models import KeyedVectors\n",
    "from gensim.parsing.preprocessing import remove_stopwords, strip_punctuation, strip_numeric"
   ]
  },
  {
   "cell_type": "code",
   "execution_count": 95,
   "metadata": {},
   "outputs": [],
   "source": [
    "# Load the pre-trained word2vec model i downloaded to models folder\n",
    "word2vec_model_path = 'word2vec-google-news-300.kv'\n",
    "word2vec_model = KeyedVectors.load(word2vec_model_path)"
   ]
  },
  {
   "cell_type": "code",
   "execution_count": 114,
   "metadata": {},
   "outputs": [
    {
     "data": {
      "text/plain": [
       "array([ 1.1291504e-03, -8.9645386e-04,  3.1852722e-04,  1.5335083e-03,\n",
       "        1.1062622e-03, -1.4038086e-03, -3.0517578e-05, -4.1961670e-04,\n",
       "       -5.7601929e-04,  1.0757446e-03, -1.0223389e-03, -6.1798096e-04,\n",
       "       -7.5531006e-04,  1.4038086e-03, -1.6403198e-03, -6.3323975e-04,\n",
       "        1.6326904e-03, -1.0070801e-03, -1.2664795e-03,  6.5231323e-04,\n",
       "       -4.1580200e-04, -1.0757446e-03,  1.5258789e-03, -2.7465820e-04,\n",
       "        1.4019012e-04,  1.5716553e-03,  1.3580322e-03, -8.3160400e-04,\n",
       "       -1.4038086e-03,  1.5792847e-03,  2.5367737e-04, -7.3242188e-04,\n",
       "       -1.0538101e-04, -1.1672974e-03,  1.5792847e-03,  6.5612793e-04,\n",
       "       -6.5994263e-04,  2.9206276e-06,  1.1291504e-03,  4.2724609e-04,\n",
       "       -3.7002563e-04, -1.1520386e-03,  1.2664795e-03, -3.5166740e-06,\n",
       "        2.6512146e-04, -4.0245056e-04,  1.4114380e-04, -3.3617020e-05,\n",
       "        7.5912476e-04, -5.1879883e-04, -7.1048737e-05,  6.0272217e-04,\n",
       "       -5.0735474e-04, -1.6250610e-03, -4.3678284e-04, -9.9182129e-04,\n",
       "       -1.2207031e-03, -3.2234192e-04,  6.8664551e-05, -1.1672974e-03,\n",
       "       -5.1116943e-04,  1.4114380e-03,  3.3569336e-04, -4.7492981e-04,\n",
       "       -1.3732910e-03,  3.6621094e-04, -1.4419556e-03, -6.0653687e-04,\n",
       "        8.0108643e-04,  1.1291504e-03, -8.3541870e-04, -1.1596680e-03,\n",
       "        9.1552734e-04,  5.2261353e-04, -3.2806396e-04,  1.5945435e-03,\n",
       "       -1.5792847e-03, -3.5667419e-04,  4.9591064e-04,  1.0147095e-03,\n",
       "       -1.0986328e-03, -1.6593933e-04, -1.4209747e-04, -2.6130676e-04,\n",
       "        1.2588501e-03,  3.8623810e-05,  1.6880035e-04, -1.0299683e-03,\n",
       "        1.6098022e-03,  6.2942505e-04,  4.1770935e-04, -1.3504028e-03,\n",
       "        3.4904480e-04,  1.1444092e-03, -1.2054443e-03, -1.1825562e-03,\n",
       "        9.4985962e-04,  6.0558319e-05,  1.0728836e-05, -6.6757202e-04,\n",
       "        1.2435913e-03,  6.9046021e-04,  5.5551529e-05, -8.6212158e-04,\n",
       "       -1.1672974e-03,  1.2130737e-03, -8.0490112e-04, -8.7738037e-04,\n",
       "        2.2792816e-04, -3.9672852e-04, -8.5830688e-04,  2.8800964e-04,\n",
       "       -1.5869141e-03,  4.8446655e-04, -1.1215210e-03,  1.9669533e-06,\n",
       "       -3.7956238e-04,  7.0571899e-04, -1.5869141e-03,  1.6250610e-03,\n",
       "        1.5563965e-03, -4.3106079e-04,  9.8419189e-04,  9.0408325e-04,\n",
       "       -1.3961792e-03,  1.2054443e-03, -7.0190430e-04,  2.7084351e-04,\n",
       "       -1.2359619e-03,  6.9046021e-04, -8.4304810e-04,  1.3427734e-03,\n",
       "       -1.4343262e-03, -6.7138672e-04,  1.5487671e-03, -1.0986328e-03,\n",
       "        1.1901855e-03, -1.4266968e-03, -6.8283081e-04, -7.8582764e-04,\n",
       "        4.8065186e-04,  4.0817261e-04, -6.3705444e-04,  1.4495850e-04,\n",
       "       -9.7656250e-04,  1.4495850e-03,  8.4564090e-07, -1.6632080e-03,\n",
       "       -3.2806396e-04,  6.2942505e-04, -1.4343262e-03, -3.4141541e-04,\n",
       "        1.1520386e-03, -5.3024292e-04, -4.7111511e-04, -8.5067749e-04,\n",
       "       -1.3809204e-03, -1.2435913e-03, -1.3275146e-03,  1.0757446e-03,\n",
       "        1.3198853e-03, -3.0326843e-04, -3.7431717e-05,  1.1825562e-03,\n",
       "       -1.3580322e-03, -1.0452271e-03,  5.6743622e-05, -1.0147095e-03,\n",
       "        4.3296814e-04, -1.5716553e-03, -9.1075897e-05,  1.0604858e-03,\n",
       "       -6.0272217e-04, -1.5335083e-03, -1.5335083e-03,  5.4168701e-04,\n",
       "        1.3351440e-03,  4.1198730e-04, -3.1089783e-04,  1.7642975e-04,\n",
       "       -1.3732910e-04, -6.9808960e-04, -8.6212158e-04, -1.0833740e-03,\n",
       "       -2.9802322e-05,  8.0108643e-04,  6.7901611e-04,  3.3569336e-04,\n",
       "       -1.3885498e-03,  1.3504028e-03,  2.3460388e-04, -1.3351440e-03,\n",
       "       -8.7356567e-04, -7.4386597e-04,  1.0833740e-03,  6.0558319e-05,\n",
       "       -1.2664795e-03,  1.1901855e-03, -6.2179565e-04,  1.3597310e-07,\n",
       "        1.2741089e-03, -9.8419189e-04, -1.5487671e-03,  1.5563965e-03,\n",
       "       -1.3122559e-03, -7.9345703e-04,  1.5335083e-03,  1.2969971e-03,\n",
       "       -1.8024445e-04,  9.1934204e-04,  1.2054443e-03,  7.7056885e-04,\n",
       "       -1.6555786e-03,  7.7056885e-04,  1.4495850e-03, -1.3046265e-03,\n",
       "        6.1035156e-04,  6.5994263e-04,  1.2588501e-03,  1.4190674e-03,\n",
       "       -1.2207031e-03, -1.5106201e-03,  1.1291504e-03,  1.3427734e-03,\n",
       "        1.6632080e-03, -5.7220459e-04, -5.5694580e-04,  3.9863586e-04,\n",
       "       -2.7084351e-04,  4.9591064e-04,  1.6098022e-03, -7.0571899e-04,\n",
       "        6.2561035e-04, -9.7656250e-04, -1.8978119e-04,  9.5367432e-05,\n",
       "       -5.1879883e-04, -2.0408630e-04, -8.2778931e-04, -1.2302399e-04,\n",
       "        7.6293945e-04,  3.2234192e-04, -1.2435913e-03,  9.9182129e-04,\n",
       "        1.0604858e-03, -1.4114380e-03,  9.6797943e-05, -1.5563965e-03,\n",
       "        2.1934509e-04, -5.5313110e-05, -9.1171265e-04, -1.4877319e-03,\n",
       "        1.3656616e-03, -8.4304810e-04, -4.1961670e-04,  3.2424927e-04,\n",
       "       -1.0070801e-03,  1.2588501e-04, -4.5585632e-04,  1.9264221e-04,\n",
       "       -2.6893616e-04,  1.4953613e-03, -1.5869141e-03,  5.9127808e-04,\n",
       "       -1.4648438e-03,  9.6511841e-04, -1.2817383e-03,  1.6021729e-03,\n",
       "        1.0910034e-03, -1.3122559e-03,  1.0910034e-03, -5.1116943e-04,\n",
       "        3.4523010e-04,  1.0452271e-03, -2.0694733e-04,  9.0408325e-04,\n",
       "        6.6757202e-04,  1.1062622e-03, -8.7356567e-04, -3.7574768e-04,\n",
       "       -2.5749207e-04, -9.1552734e-05,  1.4343262e-03, -1.1825562e-03,\n",
       "       -8.7261200e-05,  1.3275146e-03, -1.5830994e-04,  1.2893677e-03,\n",
       "       -9.8419189e-04, -5.4931641e-04, -1.5487671e-03,  1.3732910e-03,\n",
       "       -6.0796738e-05, -8.2397461e-04,  1.3275146e-03,  1.1596680e-03,\n",
       "        5.6838989e-04, -1.5640259e-03, -1.2302399e-04, -8.6307526e-05],\n",
       "      dtype=float32)"
      ]
     },
     "execution_count": 114,
     "metadata": {},
     "output_type": "execute_result"
    }
   ],
   "source": [
    "# index to key\n",
    "word2vec_model.get_vector(0)   "
   ]
  },
  {
   "cell_type": "code",
   "execution_count": 96,
   "metadata": {},
   "outputs": [],
   "source": [
    "# for all words in dataset, check if they are in the word2vec model. print percentage of words in the model\n",
    "lyrics_midi['lyrics'] = lyrics_midi['lyrics'].apply(remove_stopwords).apply(strip_punctuation).apply(strip_numeric)\n",
    "lyrics_midi['lyrics'] = lyrics_midi['lyrics'].str.lower()\n",
    "\n",
    "# Function to calculate the percentage of words in the word2vec model\n",
    "def words_in_word2vec(text):\n",
    "    words = text.split()\n",
    "    words_in_model = [word for word in words if word in word2vec_model.index_to_key]\n",
    "    return len(words_in_model) / len(words) * 100  # Return percentage\n",
    "\n",
    "lyrics_midi['words_in_word2vec'] = lyrics_midi['lyrics'].apply(words_in_word2vec)"
   ]
  },
  {
   "cell_type": "code",
   "execution_count": 97,
   "metadata": {},
   "outputs": [
    {
     "data": {
      "text/plain": [
       "<AxesSubplot: xlabel='words_in_word2vec', ylabel='Count'>"
      ]
     },
     "execution_count": 97,
     "metadata": {},
     "output_type": "execute_result"
    },
    {
     "data": {
      "image/png": "[encoded data removed]",
      "text/plain": [
       "<Figure size 1000x600 with 1 Axes>"
      ]
     },
     "metadata": {},
     "output_type": "display_data"
    }
   ],
   "source": [
    "# plot the distribution of words in word2vec model\n",
    "plt.figure(figsize=(10, 6))\n",
    "sns.histplot(lyrics_midi['words_in_word2vec'], bins=30, kde=True)"
   ]
  },
  {
   "cell_type": "code",
   "execution_count": 98,
   "metadata": {},
   "outputs": [
    {
     "ename": "AttributeError",
     "evalue": "'Series' object has no attribute 'percentile'",
     "output_type": "error",
     "traceback": [
      "\u001b[0;31m---------------------------------------------------------------------------\u001b[0m",
      "\u001b[0;31mAttributeError\u001b[0m                            Traceback (most recent call last)",
      "Cell \u001b[0;32mIn[98], line 2\u001b[0m\n\u001b[1;32m      1\u001b[0m \u001b[38;5;66;03m# print the mean percentage of words in the word2vec model\u001b[39;00m\n\u001b[0;32m----> 2\u001b[0m \u001b[43mlyrics_midi\u001b[49m\u001b[43m[\u001b[49m\u001b[38;5;124;43m'\u001b[39;49m\u001b[38;5;124;43mwords_in_word2vec\u001b[39;49m\u001b[38;5;124;43m'\u001b[39;49m\u001b[43m]\u001b[49m\u001b[38;5;241;43m.\u001b[39;49m\u001b[43mpercentile\u001b[49m(\u001b[38;5;241m0.95\u001b[39m)\n",
      "File \u001b[0;32m~/.conda/envs/logdeep/lib/python3.9/site-packages/pandas/core/generic.py:5989\u001b[0m, in \u001b[0;36mNDFrame.__getattr__\u001b[0;34m(self, name)\u001b[0m\n\u001b[1;32m   5982\u001b[0m \u001b[38;5;28;01mif\u001b[39;00m (\n\u001b[1;32m   5983\u001b[0m     name \u001b[38;5;129;01mnot\u001b[39;00m \u001b[38;5;129;01min\u001b[39;00m \u001b[38;5;28mself\u001b[39m\u001b[38;5;241m.\u001b[39m_internal_names_set\n\u001b[1;32m   5984\u001b[0m     \u001b[38;5;129;01mand\u001b[39;00m name \u001b[38;5;129;01mnot\u001b[39;00m \u001b[38;5;129;01min\u001b[39;00m \u001b[38;5;28mself\u001b[39m\u001b[38;5;241m.\u001b[39m_metadata\n\u001b[1;32m   5985\u001b[0m     \u001b[38;5;129;01mand\u001b[39;00m name \u001b[38;5;129;01mnot\u001b[39;00m \u001b[38;5;129;01min\u001b[39;00m \u001b[38;5;28mself\u001b[39m\u001b[38;5;241m.\u001b[39m_accessors\n\u001b[1;32m   5986\u001b[0m     \u001b[38;5;129;01mand\u001b[39;00m \u001b[38;5;28mself\u001b[39m\u001b[38;5;241m.\u001b[39m_info_axis\u001b[38;5;241m.\u001b[39m_can_hold_identifiers_and_holds_name(name)\n\u001b[1;32m   5987\u001b[0m ):\n\u001b[1;32m   5988\u001b[0m     \u001b[38;5;28;01mreturn\u001b[39;00m \u001b[38;5;28mself\u001b[39m[name]\n\u001b[0;32m-> 5989\u001b[0m \u001b[38;5;28;01mreturn\u001b[39;00m \u001b[38;5;28;43mobject\u001b[39;49m\u001b[38;5;241;43m.\u001b[39;49m\u001b[38;5;21;43m__getattribute__\u001b[39;49m\u001b[43m(\u001b[49m\u001b[38;5;28;43mself\u001b[39;49m\u001b[43m,\u001b[49m\u001b[43m \u001b[49m\u001b[43mname\u001b[49m\u001b[43m)\u001b[49m\n",
      "\u001b[0;31mAttributeError\u001b[0m: 'Series' object has no attribute 'percentile'"
     ]
    }
   ],
   "source": [
    "# print the mean percentage of words in the word2vec model\n",
    "lyrics_midi['words_in_word2vec'].percentile(0.95)"
   ]
  },
  {
   "cell_type": "code",
   "execution_count": 47,
   "metadata": {},
   "outputs": [
    {
     "data": {
      "text/html": [
       "<div>\n",
       "<style scoped>\n",
       "    .dataframe tbody tr th:only-of-type {\n",
       "        vertical-align: middle;\n",
       "    }\n",
       "\n",
       "    .dataframe tbody tr th {\n",
       "        vertical-align: top;\n",
       "    }\n",
       "\n",
       "    .dataframe thead th {\n",
       "        text-align: right;\n",
       "    }\n",
       "</style>\n",
       "<table border=\"1\" class=\"dataframe\">\n",
       "  <thead>\n",
       "    <tr style=\"text-align: right;\">\n",
       "      <th></th>\n",
       "      <th>Column</th>\n",
       "      <th>Type</th>\n",
       "      <th>Mean</th>\n",
       "      <th>Std</th>\n",
       "    </tr>\n",
       "  </thead>\n",
       "  <tbody>\n",
       "    <tr>\n",
       "      <th>0</th>\n",
       "      <td>artist</td>\n",
       "      <td>object</td>\n",
       "      <td>NaN</td>\n",
       "      <td>NaN</td>\n",
       "    </tr>\n",
       "    <tr>\n",
       "      <th>1</th>\n",
       "      <td>song</td>\n",
       "      <td>object</td>\n",
       "      <td>NaN</td>\n",
       "      <td>NaN</td>\n",
       "    </tr>\n",
       "    <tr>\n",
       "      <th>2</th>\n",
       "      <td>lyrics</td>\n",
       "      <td>object</td>\n",
       "      <td>NaN</td>\n",
       "      <td>NaN</td>\n",
       "    </tr>\n",
       "    <tr>\n",
       "      <th>3</th>\n",
       "      <td>stop_words_percentage</td>\n",
       "      <td>float64</td>\n",
       "      <td>42.174596</td>\n",
       "      <td>7.453938</td>\n",
       "    </tr>\n",
       "    <tr>\n",
       "      <th>4</th>\n",
       "      <td>dictionary_words_percentage</td>\n",
       "      <td>float64</td>\n",
       "      <td>73.362243</td>\n",
       "      <td>7.061548</td>\n",
       "    </tr>\n",
       "    <tr>\n",
       "      <th>5</th>\n",
       "      <td>TTR</td>\n",
       "      <td>float64</td>\n",
       "      <td>35.440136</td>\n",
       "      <td>10.519813</td>\n",
       "    </tr>\n",
       "    <tr>\n",
       "      <th>6</th>\n",
       "      <td>ood_words_count</td>\n",
       "      <td>float64</td>\n",
       "      <td>80.013245</td>\n",
       "      <td>50.209047</td>\n",
       "    </tr>\n",
       "    <tr>\n",
       "      <th>7</th>\n",
       "      <td>tempo</td>\n",
       "      <td>float64</td>\n",
       "      <td>211.283381</td>\n",
       "      <td>32.768486</td>\n",
       "    </tr>\n",
       "    <tr>\n",
       "      <th>8</th>\n",
       "      <td>instruments</td>\n",
       "      <td>object</td>\n",
       "      <td>NaN</td>\n",
       "      <td>NaN</td>\n",
       "    </tr>\n",
       "    <tr>\n",
       "      <th>9</th>\n",
       "      <td>notes</td>\n",
       "      <td>object</td>\n",
       "      <td>NaN</td>\n",
       "      <td>NaN</td>\n",
       "    </tr>\n",
       "    <tr>\n",
       "      <th>10</th>\n",
       "      <td>words_in_word2vec</td>\n",
       "      <td>float64</td>\n",
       "      <td>98.934942</td>\n",
       "      <td>4.110904</td>\n",
       "    </tr>\n",
       "  </tbody>\n",
       "</table>\n",
       "</div>"
      ],
      "text/plain": [
       "                         Column     Type        Mean        Std\n",
       "0                        artist   object         NaN        NaN\n",
       "1                          song   object         NaN        NaN\n",
       "2                        lyrics   object         NaN        NaN\n",
       "3         stop_words_percentage  float64   42.174596   7.453938\n",
       "4   dictionary_words_percentage  float64   73.362243   7.061548\n",
       "5                           TTR  float64   35.440136  10.519813\n",
       "6               ood_words_count  float64   80.013245  50.209047\n",
       "7                         tempo  float64  211.283381  32.768486\n",
       "8                   instruments   object         NaN        NaN\n",
       "9                         notes   object         NaN        NaN\n",
       "10            words_in_word2vec  float64   98.934942   4.110904"
      ]
     },
     "execution_count": 47,
     "metadata": {},
     "output_type": "execute_result"
    }
   ],
   "source": [
    "# create a table for each column in the dataset, the column name, data type, the mean and the standard deviation (if numeric)\n",
    "column_stats = []\n",
    "\n",
    "for column in lyrics_midi.columns:\n",
    "    column_type = lyrics_midi[column].dtype\n",
    "    if column_type in [np.float64, np.int64]:\n",
    "        column_mean = lyrics_midi[column].mean()\n",
    "        column_std = lyrics_midi[column].std()\n",
    "    else:\n",
    "        column_mean = None\n",
    "        column_std = None\n",
    "\n",
    "    column_stats.append([column, column_type, column_mean, column_std])\n",
    "\n",
    "\n",
    "column_stats_df = pd.DataFrame(column_stats, columns=['Column', 'Type', 'Mean', 'Std'])\n",
    "column_stats_df"
   ]
  },
  {
   "cell_type": "code",
   "execution_count": null,
   "metadata": {},
   "outputs": [],
   "source": []
  }
 ],
 "metadata": {
  "kernelspec": {
   "display_name": "nnenv",
   "language": "python",
   "name": "python3"
  },
  "language_info": {
   "codemirror_mode": {
    "name": "ipython",
    "version": 3
   },
   "file_extension": ".py",
   "mimetype": "text/x-python",
   "name": "python",
   "nbconvert_exporter": "python",
   "pygments_lexer": "ipython3",
   "version": "3.9.13"
  }
 },
 "nbformat": 4,
 "nbformat_minor": 2
}
