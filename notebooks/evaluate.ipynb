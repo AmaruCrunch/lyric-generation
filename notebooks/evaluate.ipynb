{
 "cells": [
  {
   "cell_type": "code",
   "execution_count": 1,
   "metadata": {},
   "outputs": [],
   "source": [
    "import gensim\n",
    "import nltk\n",
    "from nltk.translate.bleu_score import sentence_bleu\n",
    "from scipy.spatial.distance import cosine\n",
    "import numpy as np\n",
    "from gensim.models import KeyedVectors\n",
    "from gensim.similarities import WmdSimilarity\n",
    "\n",
    "# Load your pre-trained Word2Vec model\n",
    "word2vec_model = KeyedVectors.load_word2vec_format('models/GoogleNews-vectors-negative300.bin.gz', binary=True)\n",
    "\n",
    "def calculate_similarity_metrics(text1, text2, word2vec_model):\n",
    "    \"\"\"\n",
    "    Calculates cosine similarity, WMD, and BLEU score between two texts.\n",
    "    \n",
    "    Parameters:\n",
    "    text1 (str): The first text.\n",
    "    text2 (str): The second text.\n",
    "    word2vec_model (gensim.models.KeyedVectors): Pre-trained Word2Vec model.\n",
    "    \n",
    "    Returns:\n",
    "    dict: A dictionary containing the cosine similarity, WMD, and BLEU score.\n",
    "    \"\"\"\n",
    "    # Tokenize and vectorize texts\n",
    "    tokens1 = text1.lower().split()\n",
    "    tokens2 = text2.lower().split()\n",
    "    \n",
    "    vectors1 = [word2vec_model[word] for word in tokens1 if word in word2vec_model]\n",
    "    vectors2 = [word2vec_model[word] for word in tokens2 if word in word2vec_model]\n",
    "    \n",
    "    # Cosine similarity\n",
    "    # Avoid division by zero and ensure valid vectors for cosine similarity calculation\n",
    "    if len(vectors1) > 0 and len(vectors2) > 0:\n",
    "        mean_vector1 = np.mean(vectors1, axis=0)\n",
    "        mean_vector2 = np.mean(vectors2, axis=0)\n",
    "        cosine_sim = 1 - cosine(mean_vector1, mean_vector2)\n",
    "    else:\n",
    "        cosine_sim = float('nan')\n",
    "    \n",
    "    # WMD\n",
    "    wmd = word2vec_model.wmdistance(tokens1, tokens2)\n",
    "    \n",
    "    # BLEU score\n",
    "    # Note: `sentence_bleu` expects a list of reference sentences, where each reference is tokenized\n",
    "    bleu_score = sentence_bleu([tokens1], tokens2)\n",
    "    \n",
    "    return {\n",
    "        'Cosine Similarity': cosine_sim,\n",
    "        'WMD': wmd,\n",
    "        'BLEU Score': bleu_score\n",
    "    }"
   ]
  },
  {
   "cell_type": "code",
   "execution_count": null,
   "metadata": {},
   "outputs": [],
   "source": [
    "# create a new instance of the LyricsGenerator\n",
    "vocab = Vocabulary(stoi, itos)\n",
    "generator = LyricsGenerator(lstm_model, vocab, device)\n"
   ]
  },
  {
   "cell_type": "code",
   "execution_count": null,
   "metadata": {},
   "outputs": [],
   "source": [
    "# generate a song\n",
    "initial_word = 'BOS'  # Starting word for song generation\n",
    "song = generator.generate(initial_word)"
   ]
  },
  {
   "cell_type": "code",
   "execution_count": null,
   "metadata": {},
   "outputs": [],
   "source": [
    "import pandas as pd\n",
    "# load trainset\n",
    "train = pd.read_csv('data/lyrics_train_set2.csv')\n",
    "\n",
    "# get lyrics of a song\n",
    "lyrics = train.loc[0, 'lyrics']\n",
    "lyrics"
   ]
  },
  {
   "cell_type": "code",
   "execution_count": null,
   "metadata": {},
   "outputs": [],
   "source": [
    "# calculate similarity metrics\n",
    "cos, bleu = calculate_similarity_metrics(lyrics, song)\n",
    "print(f\"Cosine Similarity: {cos:.4f}\")\n",
    "print(f\"BLEU Score: {bleu:.4f}\")"
   ]
  }
 ],
 "metadata": {
  "kernelspec": {
   "display_name": "Python 3",
   "language": "python",
   "name": "python3"
  },
  "language_info": {
   "codemirror_mode": {
    "name": "ipython",
    "version": 3
   },
   "file_extension": ".py",
   "mimetype": "text/x-python",
   "name": "python",
   "nbconvert_exporter": "python",
   "pygments_lexer": "ipython3",
   "version": "3.10.13"
  }
 },
 "nbformat": 4,
 "nbformat_minor": 2
}
