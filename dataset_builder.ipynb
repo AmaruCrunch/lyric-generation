{
 "cells": [
  {
   "cell_type": "code",
   "execution_count": 2,
   "metadata": {},
   "outputs": [
    {
     "name": "stderr",
     "output_type": "stream",
     "text": [
      "100%|██████████| 600/600 [00:00<00:00, 1575.07it/s]\n"
     ]
    }
   ],
   "source": [
    "import numpy as np\n",
    "import pandas as pd\n",
    "import matplotlib.pyplot as plt\n",
    "import os\n",
    "from tqdm import tqdm\n",
    "import pickle as pkl\n",
    "import re\n",
    "\n",
    "import pretty_midi\n",
    "from gensim.models import KeyedVectors\n",
    "from gensim.parsing.preprocessing import remove_stopwords, strip_punctuation, strip_numeric\n",
    "import gensim.downloader as api\n",
    "\n",
    "from sklearn.model_selection import train_test_split\n",
    "import torch\n",
    "from torch import nn\n",
    "import torch.optim as optim\n",
    "import torch.nn.functional as F\n",
    "from torch.utils.data import Dataset, DataLoader\n",
    "from sklearn.preprocessing import StandardScaler\n",
    "\n",
    "import nltk\n",
    "# nltk.download('punkt')\n",
    "from nltk.tokenize import sent_tokenize\n",
    "\n",
    "train_path = r'data/lyrics_train_set2.csv'\n",
    "test_path = r'data/lyrics_test_set.csv'\n",
    "\n",
    "train = pd.read_csv(train_path)\n",
    "test = pd.read_csv(test_path)\n",
    "\n",
    "train['artist'] = train['artist'].str.strip()\n",
    "train['song'] = train['song'].str.strip()\n",
    "test['artist'] = test['artist'].str.strip()\n",
    "test['song'] = test['song'].str.strip()\n",
    "\n",
    "word2vec_path = r'models/GoogleNews-vectors-negative300.bin.gz'\n",
    "word2vec_model = KeyedVectors.load_word2vec_format(word2vec_path, binary=True)\n",
    "\n",
    "bos_token = 'BOS '\n",
    "eos_token = ' EOS '\n",
    "eof_token = ' EOF'\n",
    "\n",
    "def tokenize_lyrics(lyrics):\n",
    "    lyrics = lyrics.lower()\n",
    "    lyrics = lyrics.replace('&', eos_token)\n",
    "    lyrics = bos_token + lyrics + eof_token\n",
    "    lyrics = strip_punctuation(lyrics)\n",
    "    lyrics = strip_numeric(lyrics)\n",
    "    lyrics = re.sub(r'\\(.*?\\)', '', lyrics)\n",
    "    lyrics = re.sub(r'\\[.*?\\]', '', lyrics)\n",
    "    lyrics_len = len(lyrics.split())\n",
    "\n",
    "    # tokenizing\n",
    "    lyrics = lyrics.split()\n",
    "    word_ids = [word2vec_model.key_to_index[word] for word in lyrics if word in word2vec_model]\n",
    "    vectors = [word2vec_model[word] for word in lyrics if word in word2vec_model]\n",
    "\n",
    "    oov_percentage = (lyrics_len - len(word_ids)) / lyrics_len\n",
    "    return word_ids, vectors, oov_percentage\n",
    "\n",
    "lyrics_dict = {}\n",
    "for i, row in tqdm(train.iterrows(), total=len(train)):\n",
    "    song_name = row['song']\n",
    "    artist = row['artist']\n",
    "    word_ids, vectors, oov_percentage = tokenize_lyrics(row['lyrics'])\n",
    "    key = song_name + ' ' + artist\n",
    "    lyrics_dict[key] = word_ids\n",
    "\n",
    "# save as pkl file\n",
    "lyrics_pkl_path = r'data/lyrics_dict.pkl'\n",
    "with open(lyrics_pkl_path, 'wb') as f:\n",
    "    pkl.dump(lyrics_dict, f)"
   ]
  },
  {
   "cell_type": "code",
   "execution_count": null,
   "metadata": {},
   "outputs": [],
   "source": []
  }
 ],
 "metadata": {
  "kernelspec": {
   "display_name": "nnenv",
   "language": "python",
   "name": "python3"
  },
  "language_info": {
   "codemirror_mode": {
    "name": "ipython",
    "version": 3
   },
   "file_extension": ".py",
   "mimetype": "text/x-python",
   "name": "python",
   "nbconvert_exporter": "python",
   "pygments_lexer": "ipython3",
   "version": "3.10.13"
  }
 },
 "nbformat": 4,
 "nbformat_minor": 2
}
